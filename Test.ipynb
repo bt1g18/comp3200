{
 "cells": [
  {
   "cell_type": "markdown",
   "metadata": {},
   "source": [
    "### Setup"
   ]
  },
  {
   "cell_type": "code",
   "execution_count": 15,
   "metadata": {},
   "outputs": [],
   "source": [
    "import theano\n",
    "import lasagne\n",
    "import time\n",
    "import itertools\n",
    "import collections\n",
    "\n",
    "import pandas as pd\n",
    "import seaborn as sn\n",
    "import numpy as np\n",
    "import pickle\n",
    "import theano.tensor as T\n",
    "import keras\n",
    "import matplotlib.pyplot as plt\n",
    "from sklearn import metrics\n",
    "from sklearn.metrics import ConfusionMatrixDisplay\n",
    "from sliding_window import sliding_window\n",
    "from label_processing import reassign_labels\n",
    "from label_processing import print_results\n",
    "from label_processing import relabel_list\n",
    "from keras import layers\n",
    "\n",
    "# Hardcoded number of sensor channels employed in the OPPORTUNITY challenge\n",
    "NB_SENSOR_CHANNELS = 113\n",
    "\n",
    "# Hardcoded number of classes in the gesture recognition problem\n",
    "NUM_CLASSES = 18\n",
    "\n",
    "# Hardcoded length of the sliding window mechanism employed to segment the data\n",
    "SLIDING_WINDOW_LENGTH = 24\n",
    "\n",
    "# Length of the input sequence after convolutional operations\n",
    "FINAL_SEQUENCE_LENGTH = 8\n",
    "\n",
    "# Hardcoded step of the sliding window mechanism employed to segment the data\n",
    "SLIDING_WINDOW_STEP = 12\n",
    "\n",
    "# Batch Size\n",
    "BATCH_SIZE = 100\n",
    "\n",
    "# Number filters convolutional layers\n",
    "NUM_FILTERS = 64\n",
    "\n",
    "# Size filters convolutional layers\n",
    "FILTER_SIZE = 5\n",
    "\n",
    "# Number of unit in the long short-term recurrent layers\n",
    "NUM_UNITS_LSTM = 128"
   ]
  },
  {
   "cell_type": "markdown",
   "metadata": {},
   "source": [
    "### Load the sensor data"
   ]
  },
  {
   "cell_type": "raw",
   "metadata": {},
   "source": [
    "Load the OPPORTUNITY processed dataset. Sensor data is segmented using a sliding window of fixed length. The class associated with each segment corresponds to the gesture which has been observed during that interval. Given a sliding window of length T, we choose the class of the sequence as the label at t=T, or in other words, the label of last sample in the window."
   ]
  },
  {
   "cell_type": "code",
   "execution_count": 2,
   "metadata": {},
   "outputs": [
    {
     "name": "stdout",
     "output_type": "stream",
     "text": [
      "Loading data...\n",
      " ..from file oppChallenge_locomotion.data\n",
      " ..reading instances: train (557963, 113), test (118750, 113)\n",
      "(465668, 113)\n",
      "(94260, 113)\n",
      "{0: 231751, 1: 130506, 2: 88883, 3: 14528}\n"
     ]
    }
   ],
   "source": [
    "def load_dataset(filename):\n",
    "\n",
    "    f = open(filename, 'rb')\n",
    "    data = pickle.load(f)\n",
    "    f.close()\n",
    "\n",
    "    X_train, y_train = data[0]\n",
    "    X_test, y_test = data[1]\n",
    "\n",
    "    print(\" ..from file {}\".format(filename))\n",
    "    print(\" ..reading instances: train {0}, test {1}\".format(X_train.shape, X_test.shape))\n",
    "\n",
    "    X_train = X_train.astype(np.float32)\n",
    "    X_test = X_test.astype(np.float32)\n",
    "\n",
    "    # The targets are casted to int8 for GPU compatibility.\n",
    "    y_train = y_train.astype(np.uint8)\n",
    "    y_test = y_test.astype(np.uint8)\n",
    "\n",
    "    return X_train, y_train, X_test, y_test\n",
    "\n",
    "print(\"Loading data...\")\n",
    "X_train, y_train, X_test, y_test = load_dataset('oppChallenge_locomotion.data')\n",
    "\n",
    "def remove_class(X_train, y_train, X_test, y_test, class_n):\n",
    "    uy_train = y_train[y_train != class_n]\n",
    "    uX_train = X_train[y_train != class_n]\n",
    "    uy_test = y_test[y_test != class_n]\n",
    "    uX_test = X_test[y_test != class_n]\n",
    "    \n",
    "    classes = set(y_train)\n",
    "    \n",
    "    for x in range(class_n + 1, len(classes)):\n",
    "        uy_train[uy_train == x] = x - 1\n",
    "        uy_test[uy_test == x] = x - 1\n",
    "        \n",
    "    return uX_train, uy_train, uX_test, uy_test\n",
    "\n",
    "def delete_features():\n",
    "    # RKN^, RKN_, BACK, HIP, R-SHOE, L-SHOE\n",
    "    # 53 Features\n",
    "    \n",
    "    features_delete = np.arange(6, 15) # 6,15\n",
    "    # features_delete = np.concatenate([features_delete, np.arange(6, 113)])\n",
    "    features_delete = np.concatenate([features_delete, np.arange(21, 36)])\n",
    "    features_delete = np.concatenate([features_delete, np.arange(45, 81)])\n",
    "\n",
    "    X_train = np.delete(X_train, features_delete, 1)\n",
    "    X_test = np.delete(X_test, features_delete, 1)\n",
    "\n",
    "classes = [\"Null\", \"Stand\", \"Walk\" ,\"Sit\", \"Lie\"]\n",
    "\n",
    "# 0 - null | 1 - stand | 2 - walk | 3 - sit | 4 - lie\n",
    "\n",
    "X_train, y_train, X_test, y_test = remove_class(X_train, y_train, X_test, y_test, 0) # remove null\n",
    "classes.remove(\"Null\")\n",
    "\n",
    "# X_train, y_train, X_test, y_test = remove_class(X_train, y_train, X_test, y_test, 1) # remove walking\n",
    "# classes.remove(\"Walk\")\n",
    "\n",
    "print(X_train.shape)\n",
    "print(X_test.shape)\n",
    "\n",
    "unique, counts = np.unique(y_train, return_counts=True)\n",
    "print(dict(zip(unique, counts)))"
   ]
  },
  {
   "cell_type": "code",
   "execution_count": null,
   "metadata": {},
   "outputs": [],
   "source": [
    "def opp_sliding_window(data_x, data_y, ws, ss):\n",
    "    data_x = sliding_window(data_x,(ws,data_x.shape[1]),(ss,1))\n",
    "    data_y = np.asarray([[i[-1]] for i in sliding_window(data_y,ws,ss)])\n",
    "    return data_x.astype(np.float32), data_y.reshape(len(data_y)).astype(np.uint8)\n",
    "\n",
    "# Sensor data is segmented using a sliding window mechanism\n",
    "\n",
    "X_train, y_train = opp_sliding_window(X_train, y_train, SLIDING_WINDOW_LENGTH, SLIDING_WINDOW_STEP)\n",
    "X_test, y_test = opp_sliding_window(X_test, y_test, SLIDING_WINDOW_LENGTH, SLIDING_WINDOW_STEP)\n",
    "\n",
    "print(\" ..after sliding window (testing): inputs {0}, targets {1}\".format(X_test.shape, y_test.shape))\n",
    "\n",
    "#X_train = np.reshape(X_train,(X_train.shape[0],X_train.shape[1]*X_train.shape[2]))\n",
    "#X_test = np.reshape(X_test,(X_test.shape[0],X_test.shape[1]*X_test.shape[2]))\n",
    "\n",
    "# Data is reshaped since the input of the network is a 4 dimension tensor\n",
    "#X_train = X_train.reshape((-1, 1, SLIDING_WINDOW_LENGTH, NB_SENSOR_CHANNELS))\n",
    "#X_test = X_test.reshape((-1, 1, SLIDING_WINDOW_LENGTH, NB_SENSOR_CHANNELS))\n",
    "\n",
    "print(X_train.shape)\n",
    "print(X_test.shape)"
   ]
  },
  {
   "cell_type": "code",
   "execution_count": null,
   "metadata": {},
   "outputs": [],
   "source": [
    "def mean_sliding_window(X):\n",
    "    rows = X.shape[0]\n",
    "    n_features = X.shape[2]\n",
    "    window_mean = np.zeros((rows, n_features))\n",
    "    for i in range(rows):\n",
    "        window_mean[i] = np.mean(X_train[i],axis=0).reshape(1, n_features)\n",
    "    return window_mean\n",
    "\n",
    "s_X_train = mean_sliding_window(X_train)\n",
    "s_X_test = mean_sliding_window(X_test)\n",
    "\n",
    "print(s_X_train.shape)\n",
    "print(s_X_test.shape)"
   ]
  },
  {
   "cell_type": "code",
   "execution_count": 10,
   "metadata": {},
   "outputs": [],
   "source": [
    "from sklearn.decomposition import PCA\n",
    "from sklearn.model_selection import train_test_split\n",
    "from sklearn.cluster import KMeans\n",
    "\n",
    "NUMBER_OF_CLUSTERS = 6\n",
    "\n",
    "# time the cluster\n",
    "\n",
    "y_pred = KMeans(n_clusters=NUMBER_OF_CLUSTERS, random_state=0).fit(X_train).predict(X_test)"
   ]
  },
  {
   "cell_type": "code",
   "execution_count": 11,
   "metadata": {
    "scrolled": true
   },
   "outputs": [
    {
     "name": "stdout",
     "output_type": "stream",
     "text": [
      "Assigned Labels:\n",
      "[0, 2, 0, 3, 0, 1]\n",
      "\n",
      "F1:\n",
      "0.7104999996640843\n",
      "\n",
      "Accuracy:\n",
      "0.6777636325058349\n",
      "\n",
      "ARI:\n",
      "0.38193449919456157\n"
     ]
    }
   ],
   "source": [
    "# 5 classes, swap label [4,3,2,1,0], ari: 0.22513280831129973, f1: 0.4609054391046733\n",
    "# 4 classes, swap label [1,2,3,0],   ari: 0.31033466772971036, f1: 0.560081609271786  (no null)\n",
    "# 3 classes,                         ari: 0.4724168184167218,  f1: 0.6375146352056416 (no null or walking)\n",
    "\n",
    "uy_pred = y_pred.copy()\n",
    "relabels = reassign_labels(uy_pred, y_test, set(uy_pred))\n",
    "uy_pred = relabel_list(uy_pred, relabels)\n",
    "print_results(uy_pred, y_test, relabels)"
   ]
  },
  {
   "cell_type": "code",
   "execution_count": 18,
   "metadata": {},
   "outputs": [
    {
     "data": {
      "image/png": "[encoded data removed]",
      "text/plain": [
       "<Figure size 432x288 with 2 Axes>"
      ]
     },
     "metadata": {
      "needs_background": "light"
     },
     "output_type": "display_data"
    }
   ],
   "source": [
    "# Confusion Matrix\n",
    "cm = metrics.confusion_matrix(y_test, uy_pred)\n",
    "\n",
    "disp = ConfusionMatrixDisplay(confusion_matrix=cm, display_labels=classes)\n",
    "disp = disp.plot()\n",
    "\n",
    "plt.show()"
   ]
  },
  {
   "cell_type": "code",
   "execution_count": 9,
   "metadata": {},
   "outputs": [
    {
     "name": "stdout",
     "output_type": "stream",
     "text": [
      "Original shape:    (94260, 113)\n",
      "Transformed shape: (94260, 80)\n"
     ]
    },
    {
     "ename": "NameError",
     "evalue": "name 'gridSearchLabel' is not defined",
     "output_type": "error",
     "traceback": [
      "\u001b[1;31m---------------------------------------------------------------------------\u001b[0m",
      "\u001b[1;31mNameError\u001b[0m                                 Traceback (most recent call last)",
      "\u001b[1;32m<ipython-input-9-c3956131c604>\u001b[0m in \u001b[0;36m<module>\u001b[1;34m\u001b[0m\n\u001b[0;32m     12\u001b[0m \u001b[1;33m\u001b[0m\u001b[0m\n\u001b[0;32m     13\u001b[0m \u001b[0muy_pred\u001b[0m \u001b[1;33m=\u001b[0m \u001b[0my_pred\u001b[0m\u001b[1;33m.\u001b[0m\u001b[0mcopy\u001b[0m\u001b[1;33m(\u001b[0m\u001b[1;33m)\u001b[0m\u001b[1;33m\u001b[0m\u001b[1;33m\u001b[0m\u001b[0m\n\u001b[1;32m---> 14\u001b[1;33m \u001b[0mrelabels\u001b[0m \u001b[1;33m=\u001b[0m \u001b[0mgridSearchLabel\u001b[0m\u001b[1;33m(\u001b[0m\u001b[0muy_pred\u001b[0m\u001b[1;33m,\u001b[0m \u001b[0my_test\u001b[0m\u001b[1;33m,\u001b[0m \u001b[0mset\u001b[0m\u001b[1;33m(\u001b[0m\u001b[0muy_pred\u001b[0m\u001b[1;33m)\u001b[0m\u001b[1;33m)\u001b[0m\u001b[1;33m\u001b[0m\u001b[1;33m\u001b[0m\u001b[0m\n\u001b[0m\u001b[0;32m     15\u001b[0m \u001b[0muy_pred\u001b[0m \u001b[1;33m=\u001b[0m \u001b[0mrelabelList\u001b[0m\u001b[1;33m(\u001b[0m\u001b[0muy_pred\u001b[0m\u001b[1;33m,\u001b[0m \u001b[0mrelabels\u001b[0m\u001b[1;33m)\u001b[0m\u001b[1;33m\u001b[0m\u001b[1;33m\u001b[0m\u001b[0m\n\u001b[0;32m     16\u001b[0m \u001b[0mprintResults\u001b[0m\u001b[1;33m(\u001b[0m\u001b[0muy_pred\u001b[0m\u001b[1;33m,\u001b[0m \u001b[0my_test\u001b[0m\u001b[1;33m,\u001b[0m \u001b[0mrelabels\u001b[0m\u001b[1;33m)\u001b[0m\u001b[1;33m\u001b[0m\u001b[1;33m\u001b[0m\u001b[0m\n",
      "\u001b[1;31mNameError\u001b[0m: name 'gridSearchLabel' is not defined"
     ]
    }
   ],
   "source": [
    "pca = PCA(n_components=0.99)\n",
    "pca.fit(X_train)\n",
    "X_pca = pca.transform(X_test)\n",
    "# print('at', x, '% of the variance ======')\n",
    "print(\"Original shape:   \", X_test.shape)\n",
    "print(\"Transformed shape:\", X_pca.shape)\n",
    "\n",
    "#df_redd = pd.DataFrame(X_pca)\n",
    "#X_traind, X_testd, y_traind, y_testd = train_test_split(df_redd, y_train)\n",
    "\n",
    "y_pred = KMeans(n_clusters=NUMBER_OF_CLUSTERS, random_state=0).fit(X_pca).predict(X_pca)\n",
    "\n",
    "uy_pred = y_pred.copy()\n",
    "relabels = gridSearchLabel(uy_pred, y_test, set(uy_pred))\n",
    "uy_pred = relabelList(uy_pred, relabels)\n",
    "printResults(uy_pred, y_test, relabels)"
   ]
  },
  {
   "cell_type": "code",
   "execution_count": null,
   "metadata": {},
   "outputs": [],
   "source": [
    "sliding_window = keras.Input(shape=(30, 113))\n",
    "\n",
    "x = layers.Conv2D(112, (3, 3), activation='relu', padding='same')(sliding_window)\n",
    "x = layers.MaxPooling2D((2, 2), padding='same')(x)\n",
    "x = layers.Conv2D(256, (3, 3), activation='relu', padding='same')(x)\n",
    "x = layers.MaxPooling2D((2, 2), padding='same')(x)\n",
    "x = layers.Conv2D(512, (3, 3), activation='relu', padding='same')(x)\n",
    "encoded = layers.MaxPooling2D((2, 2), padding='same')(x)\n",
    "\n",
    "# at this point the representation is (4, 4, 8) i.e. 128-dimensional\n",
    "\n",
    "x = layers.Conv2D(112, (3, 3), activation='relu', padding='same')(encoded)\n",
    "x = layers.UpSampling2D((2, 2))(x)\n",
    "x = layers.Conv2D(256, (3, 3), activation='relu', padding='same')(x)\n",
    "x = layers.UpSampling2D((2, 2))(x)\n",
    "x = layers.Conv2D(512, (3, 3), activation='relu')(x)\n",
    "x = layers.UpSampling2D((2, 2))(x)\n",
    "decoded = layers.Conv2D(1, (3, 3), activation='sigmoid', padding='same')(x)\n",
    "\n",
    "autoencoder = keras.Model(sliding_window, decoded)\n",
    "autoencoder.compile(optimizer='adam', loss='binary_crossentropy')\n",
    "autoencoder.summary()"
   ]
  },
  {
   "cell_type": "code",
   "execution_count": null,
   "metadata": {},
   "outputs": [],
   "source": [
    "autoencoder1D = keras.Sequential(\n",
    "    [\n",
    "        layers.Input(shape=(30, 113)),\n",
    "        layers.Conv1D(filters=64, kernel_size=7, padding=\"same\", strides=15, activation=\"relu\"),\n",
    "        #layers.Dropout(rate=0.2),\n",
    "        layers.Conv1D(filters=32, kernel_size=7, padding=\"same\", strides=15, activation=\"relu\"),\n",
    "        layers.Conv1DTranspose(filters=32, kernel_size=7, padding=\"same\", strides=15, activation=\"relu\"),\n",
    "        #layers.Dropout(rate=0.2),\n",
    "        layers.Conv1DTranspose(filters=64, kernel_size=7, padding=\"same\", strides=15, activation=\"relu\"),\n",
    "        layers.Conv1DTranspose(filters=1, kernel_size=7, padding=\"same\"),\n",
    "    ]\n",
    ")\n",
    "autoencoder1D.compile(optimizer='adam', loss=\"mse\")\n",
    "autoencoder1D.summary()"
   ]
  },
  {
   "cell_type": "code",
   "execution_count": null,
   "metadata": {},
   "outputs": [],
   "source": [
    "train_data = train_data.reshape(-1, 28,28, 1)\n",
    "test_data = test_data.reshape(-1, 28,28, 1)\n",
    "\n",
    "autoencoder1D.fit(X_train, X_train,\n",
    "                epochs=50,\n",
    "                batch_size=100,\n",
    "                shuffle=True,\n",
    "                callbacks=[TensorBoard(log_dir='/tmp/autoencoder')])"
   ]
  },
  {
   "cell_type": "code",
   "execution_count": null,
   "metadata": {},
   "outputs": [],
   "source": [
    "from keras.models import Sequential\n",
    "from keras.layers import LSTM\n",
    "from keras.layers import Dense\n",
    "from keras.layers import RepeatVector\n",
    "from keras.layers import TimeDistributed\n",
    "# should the autoencoder reduce the size of the sliding window?\n",
    "# lstm autoencoder doesnt need a sliding window, redudent data can lead to overfitting\n",
    "\n",
    "model = Sequential()\n",
    "model.add(LSTM(108, activation='relu', input_shape=(SLIDING_WINDOW_LENGTH, 113), return_sequences=True))\n",
    "model.add(LSTM(92, activation='relu', return_sequences=False))\n",
    "model.add(Dense(86))\n",
    "model.add(RepeatVector(SLIDING_WINDOW_LENGTH))\n",
    "model.add(LSTM(92, activation='relu', return_sequences=True))\n",
    "model.add(LSTM(108, activation='relu', return_sequences=True))\n",
    "model.add(TimeDistributed(Dense(113)))\n",
    "model.compile(optimizer='adam', loss='mse')\n",
    "model.summary()"
   ]
  },
  {
   "cell_type": "code",
   "execution_count": null,
   "metadata": {},
   "outputs": [],
   "source": [
    "from keras.callbacks import TensorBoard\n",
    "\n",
    "\n",
    "model.fit(X_train, X_train, epochs=10, batch_size=100, callbacks=[TensorBoard(log_dir='/tmp/autoencoder')])"
   ]
  },
  {
   "cell_type": "code",
   "execution_count": null,
   "metadata": {},
   "outputs": [],
   "source": [
    "# encoder becomes output\n",
    "encoder = keras.Model(inputs=model.inputs, outputs=model.layers[2].output)"
   ]
  },
  {
   "cell_type": "code",
   "execution_count": null,
   "metadata": {},
   "outputs": [],
   "source": [
    "# get encoded data\n",
    "encoded_train = encoder.predict(X_train, verbose=0)\n",
    "encoded_test = encoder.predict(X_test, verbose=0)\n",
    "print(encoded_train.shape)\n",
    "print(encoded_test.shape)"
   ]
  },
  {
   "cell_type": "code",
   "execution_count": null,
   "metadata": {},
   "outputs": [],
   "source": [
    "y_pred = KMeans(n_clusters=NUMBER_OF_CLUSTERS, random_state=0).fit(encoded_train).predict(encoded_test)\n",
    "\n",
    "uy_pred = y_pred.copy()\n",
    "relabels = gridSearchLabel(uy_pred, y_test, set(uy_pred))\n",
    "uy_pred = relabelList(uy_pred, relabels)\n",
    "printResults(uy_pred, y_test, relabels)"
   ]
  },
  {
   "cell_type": "code",
   "execution_count": null,
   "metadata": {},
   "outputs": [],
   "source": []
  }
 ],
 "metadata": {
  "kernelspec": {
   "display_name": "Python 3",
   "language": "python",
   "name": "python3"
  },
  "language_info": {
   "codemirror_mode": {
    "name": "ipython",
    "version": 3
   },
   "file_extension": ".py",
   "mimetype": "text/x-python",
   "name": "python",
   "nbconvert_exporter": "python",
   "pygments_lexer": "ipython3",
   "version": "3.8.5"
  }
 },
 "nbformat": 4,
 "nbformat_minor": 1
}
