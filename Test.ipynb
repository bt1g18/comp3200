{
 "cells": [
  {
   "cell_type": "markdown",
   "metadata": {},
   "source": [
    "### Setup"
   ]
  },
  {
   "cell_type": "code",
   "execution_count": 4,
   "metadata": {},
   "outputs": [],
   "source": [
    "import time\n",
    "import collections\n",
    "import pickle\n",
    "import keras\n",
    "import pandas as pd\n",
    "import numpy as np\n",
    "import matplotlib.pyplot as plt\n",
    "from sklearn import metrics\n",
    "from sklearn.metrics import ConfusionMatrixDisplay\n",
    "from sklearn.decomposition import PCA\n",
    "from sklearn.model_selection import train_test_split\n",
    "from sklearn.cluster import KMeans\n",
    "from sliding_window import sliding_window\n",
    "from label_processing import reassign_labels\n",
    "from label_processing import print_results\n",
    "from label_processing import relabel_list\n",
    "from keras import layers\n",
    "\n",
    "# Hardcoded number of sensor channels employed in the OPPORTUNITY challenge\n",
    "NB_SENSOR_CHANNELS = 113\n",
    "\n",
    "# Hardcoded number of classes in the gesture recognition problem\n",
    "NUM_CLASSES = 4\n",
    "\n",
    "# Hardcoded length of the sliding window mechanism employed to segment the data\n",
    "SLIDING_WINDOW_LENGTH = 24\n",
    "\n",
    "# Length of the input sequence after convolutional operations\n",
    "FINAL_SEQUENCE_LENGTH = 6\n",
    "\n",
    "# Hardcoded step of the sliding window mechanism employed to segment the data\n",
    "SLIDING_WINDOW_STEP = 12\n",
    "\n",
    "# Batch Size\n",
    "BATCH_SIZE = 100\n",
    "\n",
    "# Number filters convolutional layers\n",
    "NUM_FILTERS = 64\n",
    "\n",
    "# Size filters convolutional layers\n",
    "FILTER_SIZE = 5\n",
    "\n",
    "# Number of unit in the long short-term recurrent layers\n",
    "NUM_UNITS_LSTM = 128"
   ]
  },
  {
   "cell_type": "markdown",
   "metadata": {},
   "source": [
    "### Load the sensor data"
   ]
  },
  {
   "cell_type": "raw",
   "metadata": {},
   "source": [
    "Load the OPPORTUNITY processed dataset. Sensor data is segmented using a sliding window of fixed length. The class associated with each segment corresponds to the gesture which has been observed during that interval. Given a sliding window of length T, we choose the class of the sequence as the label at t=T, or in other words, the label of last sample in the window."
   ]
  },
  {
   "cell_type": "code",
   "execution_count": 5,
   "metadata": {},
   "outputs": [
    {
     "name": "stdout",
     "output_type": "stream",
     "text": [
      "Loading data...\n",
      " ..from file oppChallenge_locomotion.data\n",
      " ..reading instances: train (557963, 113), test (118750, 113)\n",
      "(465668, 113)\n",
      "(94260, 113)\n",
      "{0: 231751, 1: 130506, 2: 88883, 3: 14528}\n"
     ]
    }
   ],
   "source": [
    "def load_dataset(filename):\n",
    "\n",
    "    f = open(filename, 'rb')\n",
    "    data = pickle.load(f)\n",
    "    f.close()\n",
    "\n",
    "    X_train, y_train = data[0]\n",
    "    X_test, y_test = data[1]\n",
    "\n",
    "    print(\" ..from file {}\".format(filename))\n",
    "    print(\" ..reading instances: train {0}, test {1}\".format(X_train.shape, X_test.shape))\n",
    "\n",
    "    X_train = X_train.astype(np.float32)\n",
    "    X_test = X_test.astype(np.float32)\n",
    "\n",
    "    # The targets are casted to int8 for GPU compatibility.\n",
    "    y_train = y_train.astype(np.uint8)\n",
    "    y_test = y_test.astype(np.uint8)\n",
    "\n",
    "    return X_train, y_train, X_test, y_test\n",
    "\n",
    "print(\"Loading data...\")\n",
    "X_train, y_train, X_test, y_test = load_dataset('oppChallenge_locomotion.data')\n",
    "\n",
    "def remove_class(X_train, y_train, X_test, y_test, class_n):\n",
    "    uy_train = y_train[y_train != class_n]\n",
    "    uX_train = X_train[y_train != class_n]\n",
    "    uy_test = y_test[y_test != class_n]\n",
    "    uX_test = X_test[y_test != class_n]\n",
    "    \n",
    "    classes = set(y_train)\n",
    "    \n",
    "    for x in range(class_n + 1, len(classes)):\n",
    "        uy_train[uy_train == x] = x - 1\n",
    "        uy_test[uy_test == x] = x - 1\n",
    "        \n",
    "    return uX_train, uy_train, uX_test, uy_test\n",
    "\n",
    "# def delete_features():\n",
    "# RKN^, RKN_, BACK, HIP, R-SHOE, L-SHOE\n",
    "# 53 Features\n",
    "\n",
    "#features_delete = np.arange(6, 15)\n",
    "#features_delete = np.concatenate([features_delete, np.arange(21, 36)])\n",
    "#features_delete = np.concatenate([features_delete, np.arange(45, 81)])\n",
    "\n",
    "# 60 Features\n",
    "#features_delete = np.arange(0, 6)\n",
    "#features_delete = np.concatenate([features_delete, np.arange(15, 21)])\n",
    "#features_delete = np.concatenate([features_delete, np.arange(36, 45)])\n",
    "#features_delete = np.concatenate([features_delete, np.arange(81, 113)])\n",
    "\n",
    "# 9 Features (Phone)\n",
    "#features_delete = np.arange(0, 36)\n",
    "#features_delete = np.concatenate([features_delete, np.arange(45, 113)])\n",
    "\n",
    "#features_delete = np.concatenate([features_delete, np.arange(6, 113)])\n",
    "\n",
    "#X_train = np.delete(X_train, features_delete, 1)\n",
    "#X_test = np.delete(X_test, features_delete, 1)\n",
    "\n",
    "classes = [\"Null\", \"Stand\", \"Walk\" ,\"Sit\", \"Lie\"]\n",
    "\n",
    "# 0 - null | 1 - stand | 2 - walk | 3 - sit | 4 - lie\n",
    "\n",
    "X_train, y_train, X_test, y_test = remove_class(X_train, y_train, X_test, y_test, 0) # remove null\n",
    "classes.remove(\"Null\")\n",
    "\n",
    "# 0 - stand | 1 - walk | 2 - sit | 3 - lie\n",
    "\n",
    "#X_train, y_train, X_test, y_test = remove_class(X_train, y_train, X_test, y_test, 1) # remove walking\n",
    "#classes.remove(\"Walk\")\n",
    "\n",
    "#X_train, y_train, X_test, y_test = remove_class(X_train, y_train, X_test, y_test, 3) # remove walking\n",
    "#classes.remove(\"Lie\")\n",
    "\n",
    "#X_train, y_train, X_test, y_test = remove_class(X_train, y_train, X_test, y_test, 2) # remove walking\n",
    "#classes.remove(\"Sit\")\n",
    "\n",
    "# 0 - stand | 1 - sit | 2 - lie\n",
    "\n",
    "print(X_train.shape)\n",
    "print(X_test.shape)\n",
    "\n",
    "unique, counts = np.unique(y_train, return_counts=True)\n",
    "label_dict = dict(zip(unique, counts))\n",
    "print(label_dict)"
   ]
  },
  {
   "cell_type": "code",
   "execution_count": 6,
   "metadata": {},
   "outputs": [
    {
     "name": "stdout",
     "output_type": "stream",
     "text": [
      " ..after sliding window (testing): inputs (7854, 24, 113), targets (7854,)\n",
      "(38804, 24, 113)\n",
      "(7854, 24, 113)\n"
     ]
    }
   ],
   "source": [
    "def opp_sliding_window(data_x, data_y, ws, ss):\n",
    "    data_x = sliding_window(data_x,(ws,data_x.shape[1]),(ss,1))\n",
    "    data_y = np.asarray([[i[-1]] for i in sliding_window(data_y,ws,ss)])\n",
    "    return data_x.astype(np.float32), data_y.reshape(len(data_y)).astype(np.uint8)\n",
    "\n",
    "# Sensor data is segmented using a sliding window mechanism\n",
    "\n",
    "X_train, y_train = opp_sliding_window(X_train, y_train, SLIDING_WINDOW_LENGTH, SLIDING_WINDOW_STEP)\n",
    "X_test, y_test = opp_sliding_window(X_test, y_test, SLIDING_WINDOW_LENGTH, SLIDING_WINDOW_STEP)\n",
    "\n",
    "print(\" ..after sliding window (testing): inputs {0}, targets {1}\".format(X_test.shape, y_test.shape))\n",
    "\n",
    "#X_train = np.reshape(X_train,(X_train.shape[0],X_train.shape[1]*X_train.shape[2]))\n",
    "#X_test = np.reshape(X_test,(X_test.shape[0],X_test.shape[1]*X_test.shape[2]))\n",
    "\n",
    "# Data is reshaped since the input of the network is a 4 dimension tensor\n",
    "#X_train = X_train.reshape((-1, 1, SLIDING_WINDOW_LENGTH, NB_SENSOR_CHANNELS))\n",
    "#X_test = X_test.reshape((-1, 1, SLIDING_WINDOW_LENGTH, NB_SENSOR_CHANNELS))\n",
    "\n",
    "print(X_train.shape)\n",
    "print(X_test.shape)"
   ]
  },
  {
   "cell_type": "code",
   "execution_count": 4,
   "metadata": {},
   "outputs": [],
   "source": [
    "def update_sample_weight(y, label, new_weighting, sample_weight):\n",
    "    indicies = [i for i,val in enumerate(y) if val==label]\n",
    "    for index in indicies:\n",
    "        sample_weight[index] = new_weighting\n",
    "\n",
    "sample_weight_train = [1] * X_train.shape[0]\n",
    "#update_sample_weight(y_train, 1, label_dict.get(0) / label_dict.get(1), sample_weight_train)\n",
    "#update_sample_weight(y_train, 2, label_dict.get(0) / label_dict.get(2), sample_weight_train)\n",
    "#update_sample_weight(y_train, 3, label_dict.get(0) / label_dict.get(3), sample_weight_train)\n",
    "update_sample_weight(y_train, 3, 20, sample_weight_train)"
   ]
  },
  {
   "cell_type": "code",
   "execution_count": 35,
   "metadata": {},
   "outputs": [],
   "source": [
    "# flatten sliding window\n",
    "\n",
    "def flatten_sliding_window(X_data):\n",
    "    return X_data.reshape(X_data.shape[0], (X_data.shape[1] * X_data.shape[2]))"
   ]
  },
  {
   "cell_type": "code",
   "execution_count": null,
   "metadata": {},
   "outputs": [],
   "source": [
    "def mean_sliding_window(X):\n",
    "    rows = X.shape[0]\n",
    "    n_features = X.shape[2]\n",
    "    window_mean = np.zeros((rows, n_features))\n",
    "    for i in range(rows):\n",
    "        window_mean[i] = np.mean(X_train[i],axis=0).reshape(1, n_features)\n",
    "    return window_mean\n",
    "\n",
    "s_X_train = mean_sliding_window(X_train)\n",
    "s_X_test = mean_sliding_window(X_test)\n",
    "\n",
    "print(s_X_train.shape)\n",
    "print(s_X_test.shape)"
   ]
  },
  {
   "cell_type": "markdown",
   "metadata": {},
   "source": [
    "# PCA"
   ]
  },
  {
   "cell_type": "code",
   "execution_count": 275,
   "metadata": {},
   "outputs": [
    {
     "name": "stdout",
     "output_type": "stream",
     "text": [
      "Original shape: (94260, 113)\n",
      "Transformed shape: (94260, 80)\n"
     ]
    }
   ],
   "source": [
    "pca = PCA(n_components=0.99)\n",
    "print(\"Original shape:\", X_test.shape)\n",
    "pca.fit(X_train)\n",
    "X_train = pca.transform(X_train)\n",
    "X_test = pca.transform(X_test)\n",
    "# print('at', x, '% of the variance ======')\n",
    "print(\"Transformed shape:\", X_test.shape)"
   ]
  },
  {
   "cell_type": "code",
   "execution_count": 27,
   "metadata": {},
   "outputs": [],
   "source": [
    "X_train = flatten_sliding_window(X_train)\n",
    "X_test = flatten_sliding_window(X_test)"
   ]
  },
  {
   "cell_type": "code",
   "execution_count": 50,
   "metadata": {},
   "outputs": [
    {
     "name": "stdout",
     "output_type": "stream",
     "text": [
      "Time:\n",
      "4.352591514587402\n"
     ]
    }
   ],
   "source": [
    "NUMBER_OF_CLUSTERS = 6\n",
    "\n",
    "# time the cluster\n",
    "start = time.time()\n",
    "\n",
    "y_pred = KMeans(n_clusters=NUMBER_OF_CLUSTERS, random_state=0).fit(X_train).predict(X_test)\n",
    "#y_pred = KMeans(n_clusters=NUMBER_OF_CLUSTERS, random_state=0).fit(X_train, sample_weight=sample_weight_train).predict(X_test)\n",
    "\n",
    "end = time.time()\n",
    "\n",
    "print(\"Time:\")\n",
    "print(end - start)"
   ]
  },
  {
   "cell_type": "code",
   "execution_count": 51,
   "metadata": {
    "scrolled": true
   },
   "outputs": [
    {
     "name": "stdout",
     "output_type": "stream",
     "text": [
      "Assigned Labels:\n",
      "[0, 0, 0, 0, 1, 0]\n",
      "\n",
      "F1:\n",
      "0.7260729975445086\n",
      "\n",
      "Accuracy:\n",
      "0.6289254532202286\n",
      "\n",
      "ARI:\n",
      "0.04816860795838542\n"
     ]
    }
   ],
   "source": [
    "uy_pred = y_pred.copy()\n",
    "clusters = list(set(y_pred))\n",
    "clusters.sort()\n",
    "\n",
    "relabels = reassign_labels(uy_pred, y_test, set(uy_pred))\n",
    "# relabels = [0, 2, 3, 0, 3, 0, 1, 0]\n",
    "\n",
    "uy_pred = relabel_list(uy_pred, clusters, relabels)\n",
    "print_results(uy_pred, y_test, relabels)"
   ]
  },
  {
   "cell_type": "code",
   "execution_count": 52,
   "metadata": {},
   "outputs": [
    {
     "data": {
      "image/png": "[encoded data removed]",
      "text/plain": [
       "<Figure size 432x288 with 2 Axes>"
      ]
     },
     "metadata": {
      "needs_background": "light"
     },
     "output_type": "display_data"
    }
   ],
   "source": [
    "# Confusion Matrix\n",
    "cm = metrics.confusion_matrix(y_test, uy_pred)\n",
    "\n",
    "disp = ConfusionMatrixDisplay(confusion_matrix=cm, display_labels=classes)\n",
    "disp = disp.plot()\n",
    "\n",
    "#plt.savefig('confusion_matricies/c4_f113_km8+sw24_12+w.png') # number of classes, features, method\n",
    "plt.show()"
   ]
  },
  {
   "cell_type": "code",
   "execution_count": 219,
   "metadata": {},
   "outputs": [
    {
     "ename": "KeyboardInterrupt",
     "evalue": "",
     "output_type": "error",
     "traceback": [
      "\u001b[1;31m---------------------------------------------------------------------------\u001b[0m",
      "\u001b[1;31mKeyboardInterrupt\u001b[0m                         Traceback (most recent call last)",
      "\u001b[1;32m<ipython-input-219-81bd73fb9749>\u001b[0m in \u001b[0;36m<module>\u001b[1;34m\u001b[0m\n\u001b[0;32m      8\u001b[0m \u001b[0mlabel_list\u001b[0m \u001b[1;33m=\u001b[0m \u001b[1;32mNone\u001b[0m\u001b[1;33m\u001b[0m\u001b[1;33m\u001b[0m\u001b[0m\n\u001b[0;32m      9\u001b[0m \u001b[1;32mfor\u001b[0m \u001b[0mi\u001b[0m \u001b[1;32min\u001b[0m \u001b[0mrange\u001b[0m\u001b[1;33m(\u001b[0m\u001b[1;36m0\u001b[0m\u001b[1;33m,\u001b[0m \u001b[0mlen\u001b[0m\u001b[1;33m(\u001b[0m\u001b[0mtest_list\u001b[0m\u001b[1;33m)\u001b[0m\u001b[1;33m)\u001b[0m\u001b[1;33m:\u001b[0m\u001b[1;33m\u001b[0m\u001b[1;33m\u001b[0m\u001b[0m\n\u001b[1;32m---> 10\u001b[1;33m     \u001b[0mscore\u001b[0m \u001b[1;33m=\u001b[0m \u001b[0mmetrics\u001b[0m\u001b[1;33m.\u001b[0m\u001b[0mf1_score\u001b[0m\u001b[1;33m(\u001b[0m\u001b[0mrelabel_list\u001b[0m\u001b[1;33m(\u001b[0m\u001b[0my_pred\u001b[0m\u001b[1;33m.\u001b[0m\u001b[0mcopy\u001b[0m\u001b[1;33m(\u001b[0m\u001b[1;33m)\u001b[0m\u001b[1;33m,\u001b[0m \u001b[0mlist\u001b[0m\u001b[1;33m(\u001b[0m\u001b[0mtest_list\u001b[0m\u001b[1;33m[\u001b[0m\u001b[0mi\u001b[0m\u001b[1;33m]\u001b[0m\u001b[1;33m)\u001b[0m\u001b[1;33m)\u001b[0m\u001b[1;33m,\u001b[0m \u001b[0my_test\u001b[0m\u001b[1;33m,\u001b[0m \u001b[0maverage\u001b[0m\u001b[1;33m=\u001b[0m\u001b[1;34m'weighted'\u001b[0m\u001b[1;33m)\u001b[0m\u001b[1;33m\u001b[0m\u001b[1;33m\u001b[0m\u001b[0m\n\u001b[0m\u001b[0;32m     11\u001b[0m     \u001b[1;32mif\u001b[0m \u001b[1;33m(\u001b[0m\u001b[0mscore\u001b[0m \u001b[1;33m>\u001b[0m \u001b[0mf1\u001b[0m\u001b[1;33m)\u001b[0m\u001b[1;33m:\u001b[0m\u001b[1;33m\u001b[0m\u001b[1;33m\u001b[0m\u001b[0m\n\u001b[0;32m     12\u001b[0m         \u001b[0mf1\u001b[0m \u001b[1;33m=\u001b[0m \u001b[0mscore\u001b[0m\u001b[1;33m\u001b[0m\u001b[1;33m\u001b[0m\u001b[0m\n",
      "\u001b[1;32m~\\DeepConvLSTM\\label_processing.py\u001b[0m in \u001b[0;36mrelabel_list\u001b[1;34m(labels, relabel_list)\u001b[0m\n\u001b[0;32m     13\u001b[0m \u001b[1;32mdef\u001b[0m \u001b[0mrelabel_list\u001b[0m\u001b[1;33m(\u001b[0m\u001b[0mlabels\u001b[0m\u001b[1;33m,\u001b[0m \u001b[0mrelabel_list\u001b[0m\u001b[1;33m)\u001b[0m\u001b[1;33m:\u001b[0m\u001b[1;33m\u001b[0m\u001b[1;33m\u001b[0m\u001b[0m\n\u001b[0;32m     14\u001b[0m     \u001b[1;32mfor\u001b[0m \u001b[0mi\u001b[0m \u001b[1;32min\u001b[0m \u001b[0mrange\u001b[0m\u001b[1;33m(\u001b[0m\u001b[1;36m0\u001b[0m\u001b[1;33m,\u001b[0m \u001b[0mlen\u001b[0m\u001b[1;33m(\u001b[0m\u001b[0mrelabel_list\u001b[0m\u001b[1;33m)\u001b[0m\u001b[1;33m)\u001b[0m\u001b[1;33m:\u001b[0m\u001b[1;33m\u001b[0m\u001b[1;33m\u001b[0m\u001b[0m\n\u001b[1;32m---> 15\u001b[1;33m         \u001b[0mlabels\u001b[0m \u001b[1;33m=\u001b[0m \u001b[0mrelabel\u001b[0m\u001b[1;33m(\u001b[0m\u001b[0mlabels\u001b[0m\u001b[1;33m,\u001b[0m \u001b[0mi\u001b[0m\u001b[1;33m,\u001b[0m \u001b[0mrelabel_list\u001b[0m\u001b[1;33m[\u001b[0m\u001b[0mi\u001b[0m\u001b[1;33m]\u001b[0m \u001b[1;33m*\u001b[0m \u001b[1;33m-\u001b[0m\u001b[1;36m1\u001b[0m\u001b[1;33m)\u001b[0m \u001b[1;31m# i represents the cluster\u001b[0m\u001b[1;33m\u001b[0m\u001b[1;33m\u001b[0m\u001b[0m\n\u001b[0m\u001b[0;32m     16\u001b[0m     \u001b[1;32mreturn\u001b[0m \u001b[1;33m[\u001b[0m\u001b[0mabs\u001b[0m\u001b[1;33m(\u001b[0m\u001b[0mval\u001b[0m\u001b[1;33m)\u001b[0m \u001b[1;32mfor\u001b[0m \u001b[0mval\u001b[0m \u001b[1;32min\u001b[0m \u001b[0mlabels\u001b[0m\u001b[1;33m]\u001b[0m\u001b[1;33m\u001b[0m\u001b[1;33m\u001b[0m\u001b[0m\n\u001b[0;32m     17\u001b[0m \u001b[1;33m\u001b[0m\u001b[0m\n",
      "\u001b[1;32m~\\DeepConvLSTM\\label_processing.py\u001b[0m in \u001b[0;36mrelabel\u001b[1;34m(pred, old_label, new_label)\u001b[0m\n\u001b[0;32m      8\u001b[0m \u001b[1;33m\u001b[0m\u001b[0m\n\u001b[0;32m      9\u001b[0m \u001b[1;32mdef\u001b[0m \u001b[0mrelabel\u001b[0m\u001b[1;33m(\u001b[0m\u001b[0mpred\u001b[0m\u001b[1;33m,\u001b[0m \u001b[0mold_label\u001b[0m\u001b[1;33m,\u001b[0m \u001b[0mnew_label\u001b[0m\u001b[1;33m)\u001b[0m\u001b[1;33m:\u001b[0m\u001b[1;33m\u001b[0m\u001b[1;33m\u001b[0m\u001b[0m\n\u001b[1;32m---> 10\u001b[1;33m     \u001b[1;32mreturn\u001b[0m \u001b[1;33m[\u001b[0m\u001b[0mi\u001b[0m \u001b[1;32mif\u001b[0m \u001b[0mi\u001b[0m \u001b[1;33m!=\u001b[0m \u001b[0mold_label\u001b[0m \u001b[1;32melse\u001b[0m \u001b[0mnew_label\u001b[0m \u001b[1;32mfor\u001b[0m \u001b[0mi\u001b[0m \u001b[1;32min\u001b[0m \u001b[0mpred\u001b[0m\u001b[1;33m]\u001b[0m\u001b[1;33m\u001b[0m\u001b[1;33m\u001b[0m\u001b[0m\n\u001b[0m\u001b[0;32m     11\u001b[0m \u001b[1;33m\u001b[0m\u001b[0m\n\u001b[0;32m     12\u001b[0m \u001b[1;31m# index in list represent original label and value is what they're replabled to\u001b[0m\u001b[1;33m\u001b[0m\u001b[1;33m\u001b[0m\u001b[1;33m\u001b[0m\u001b[0m\n",
      "\u001b[1;32m~\\DeepConvLSTM\\label_processing.py\u001b[0m in \u001b[0;36m<listcomp>\u001b[1;34m(.0)\u001b[0m\n\u001b[0;32m      8\u001b[0m \u001b[1;33m\u001b[0m\u001b[0m\n\u001b[0;32m      9\u001b[0m \u001b[1;32mdef\u001b[0m \u001b[0mrelabel\u001b[0m\u001b[1;33m(\u001b[0m\u001b[0mpred\u001b[0m\u001b[1;33m,\u001b[0m \u001b[0mold_label\u001b[0m\u001b[1;33m,\u001b[0m \u001b[0mnew_label\u001b[0m\u001b[1;33m)\u001b[0m\u001b[1;33m:\u001b[0m\u001b[1;33m\u001b[0m\u001b[1;33m\u001b[0m\u001b[0m\n\u001b[1;32m---> 10\u001b[1;33m     \u001b[1;32mreturn\u001b[0m \u001b[1;33m[\u001b[0m\u001b[0mi\u001b[0m \u001b[1;32mif\u001b[0m \u001b[0mi\u001b[0m \u001b[1;33m!=\u001b[0m \u001b[0mold_label\u001b[0m \u001b[1;32melse\u001b[0m \u001b[0mnew_label\u001b[0m \u001b[1;32mfor\u001b[0m \u001b[0mi\u001b[0m \u001b[1;32min\u001b[0m \u001b[0mpred\u001b[0m\u001b[1;33m]\u001b[0m\u001b[1;33m\u001b[0m\u001b[1;33m\u001b[0m\u001b[0m\n\u001b[0m\u001b[0;32m     11\u001b[0m \u001b[1;33m\u001b[0m\u001b[0m\n\u001b[0;32m     12\u001b[0m \u001b[1;31m# index in list represent original label and value is what they're replabled to\u001b[0m\u001b[1;33m\u001b[0m\u001b[1;33m\u001b[0m\u001b[1;33m\u001b[0m\u001b[0m\n",
      "\u001b[1;31mKeyboardInterrupt\u001b[0m: "
     ]
    }
   ],
   "source": [
    "import itertools\n",
    "\n",
    "# checking specific lists\n",
    "\n",
    "test_list = list(set(itertools.permutations([2,0,0,1,2,0,0,1])))\n",
    "\n",
    "f1 = 0\n",
    "label_list = None\n",
    "for i in range(0, len(test_list)):\n",
    "    score = metrics.f1_score(relabel_list(y_pred.copy(), list(test_list[i])), y_test, average='weighted')\n",
    "    if (score > f1):\n",
    "        f1 = score\n",
    "        label_list = list(test_list[i])\n",
    "\n",
    "uy_pred = y_pred.copy()\n",
    "uy_pred = relabel_list(uy_pred, label_list)\n",
    "print_results(uy_pred, y_test, label_list)"
   ]
  },
  {
   "cell_type": "markdown",
   "metadata": {},
   "source": [
    "# AE"
   ]
  },
  {
   "cell_type": "code",
   "execution_count": 78,
   "metadata": {},
   "outputs": [
    {
     "name": "stdout",
     "output_type": "stream",
     "text": [
      "Model: \"sequential_17\"\n",
      "_________________________________________________________________\n",
      "Layer (type)                 Output Shape              Param #   \n",
      "=================================================================\n",
      "dense_47 (Dense)             (None, 24, 108)           12312     \n",
      "_________________________________________________________________\n",
      "dense_48 (Dense)             (None, 24, 92)            10028     \n",
      "_________________________________________________________________\n",
      "dense_49 (Dense)             (None, 24, 86)            7998      \n",
      "_________________________________________________________________\n",
      "dense_50 (Dense)             (None, 24, 92)            8004      \n",
      "_________________________________________________________________\n",
      "dense_51 (Dense)             (None, 24, 108)           10044     \n",
      "_________________________________________________________________\n",
      "dense_52 (Dense)             (None, 24, 113)           12317     \n",
      "=================================================================\n",
      "Total params: 60,703\n",
      "Trainable params: 60,703\n",
      "Non-trainable params: 0\n",
      "_________________________________________________________________\n"
     ]
    }
   ],
   "source": [
    "from keras.layers import Dense\n",
    "from keras.models import Sequential\n",
    "\n",
    "model = Sequential()\n",
    "# encoder\n",
    "model.add(Dense(108, activation='relu', input_shape=(24,113)))\n",
    "model.add(Dense(92, activation='relu'))\n",
    "model.add(Dense(86, activation='relu'))\n",
    "# decoder\n",
    "model.add(Dense(92, activation='relu'))\n",
    "model.add(Dense(108, activation='relu'))\n",
    "model.add((Dense(113, activation='sigmoid')))\n",
    "model.compile(optimizer='adam', loss='mse')\n",
    "model.summary()"
   ]
  },
  {
   "cell_type": "code",
   "execution_count": 8,
   "metadata": {},
   "outputs": [
    {
     "name": "stdout",
     "output_type": "stream",
     "text": [
      "Epoch 1/20\n",
      "4657/4657 [==============================] - 12s 2ms/step - loss: 0.0025\n",
      "Epoch 2/20\n",
      "4657/4657 [==============================] - 13s 3ms/step - loss: 8.6150e-04\n",
      "Epoch 3/20\n",
      "4657/4657 [==============================] - 11s 2ms/step - loss: 6.9383e-04\n",
      "Epoch 4/20\n",
      "4657/4657 [==============================] - 12s 3ms/step - loss: 6.1735e-04\n",
      "Epoch 5/20\n",
      "4657/4657 [==============================] - 13s 3ms/step - loss: 5.7386e-04\n",
      "Epoch 6/20\n",
      "4657/4657 [==============================] - 11s 2ms/step - loss: 5.3558e-04\n",
      "Epoch 7/20\n",
      "4657/4657 [==============================] - 13s 3ms/step - loss: 5.0579e-04\n",
      "Epoch 8/20\n",
      "4657/4657 [==============================] - 11s 2ms/step - loss: 4.8288e-04\n",
      "Epoch 9/20\n",
      "4657/4657 [==============================] - 16s 3ms/step - loss: 4.6600e-04\n",
      "Epoch 10/20\n",
      "4657/4657 [==============================] - 11s 2ms/step - loss: 4.5447e-04\n",
      "Epoch 11/20\n",
      "4657/4657 [==============================] - 12s 3ms/step - loss: 4.4605e-04\n",
      "Epoch 12/20\n",
      "4657/4657 [==============================] - 10s 2ms/step - loss: 4.3665e-04\n",
      "Epoch 13/20\n",
      "4657/4657 [==============================] - 10s 2ms/step - loss: 4.3021e-04\n",
      "Epoch 14/20\n",
      "4657/4657 [==============================] - 11s 2ms/step - loss: 4.1639e-04\n",
      "Epoch 15/20\n",
      "4657/4657 [==============================] - 15s 3ms/step - loss: 4.0641e-04\n",
      "Epoch 16/20\n",
      "4657/4657 [==============================] - 13s 3ms/step - loss: 4.0012e-04\n",
      "Epoch 17/20\n",
      "4657/4657 [==============================] - 11s 2ms/step - loss: 3.9808e-04\n",
      "Epoch 18/20\n",
      "4657/4657 [==============================] - 10s 2ms/step - loss: 3.9367e-04\n",
      "Epoch 19/20\n",
      "4657/4657 [==============================] - 10s 2ms/step - loss: 3.8694e-04\n",
      "Epoch 20/20\n",
      "4657/4657 [==============================] - 11s 2ms/step - loss: 3.8394e-04\n"
     ]
    },
    {
     "data": {
      "text/plain": [
       "<tensorflow.python.keras.callbacks.History at 0x1475bf48be0>"
      ]
     },
     "execution_count": 8,
     "metadata": {},
     "output_type": "execute_result"
    }
   ],
   "source": [
    "from keras.callbacks import TensorBoard\n",
    "\n",
    "model.fit(X_train, X_train, epochs=20, batch_size=100, callbacks=[TensorBoard(log_dir='/tmp/autoencoder')])"
   ]
  },
  {
   "cell_type": "code",
   "execution_count": 9,
   "metadata": {},
   "outputs": [],
   "source": [
    "encoder = keras.Model(inputs=model.inputs, outputs=model.layers[2].output)"
   ]
  },
  {
   "cell_type": "code",
   "execution_count": 10,
   "metadata": {},
   "outputs": [
    {
     "name": "stdout",
     "output_type": "stream",
     "text": [
      "(465668, 86)\n",
      "(94260, 86)\n"
     ]
    }
   ],
   "source": [
    "encoded_train = encoder.predict(X_train, verbose=0)\n",
    "encoded_test = encoder.predict(X_test, verbose=0)\n",
    "print(encoded_train.shape)\n",
    "print(encoded_test.shape)"
   ]
  },
  {
   "cell_type": "markdown",
   "metadata": {},
   "source": [
    "# CAE"
   ]
  },
  {
   "cell_type": "code",
   "execution_count": null,
   "metadata": {},
   "outputs": [],
   "source": [
    "from keras.layers import Input, Dense, Conv1D, MaxPooling1D, UpSampling1D\n",
    "from keras.models import Sequential\n",
    "\n",
    "model = Sequential()\n",
    "# encoder\n",
    "model.add(Conv1D(128, 3, activation='relu', input_shape=(SLIDING_WINDOW_LENGTH, 113), padding=\"same\"))\n",
    "model.add(MaxPooling1D(2, padding=\"valid\"))\n",
    "model.add(Conv1D(64, 3, activation=\"relu\", padding=\"same\"))\n",
    "model.add(MaxPooling1D(2, padding=\"valid\"))\n",
    "# decoder\n",
    "model.add(Conv1D(64, 3, activation=\"relu\", padding=\"same\"))\n",
    "model.add(UpSampling1D(2))\n",
    "model.add(Conv1D(128, 3, activation='relu', padding=\"same\"))\n",
    "model.add(UpSampling1D(2))\n",
    "model.add(Conv1D(113, 1, activation='sigmoid', padding='valid'))\n",
    "model.compile(optimizer='adam', loss='mse')\n",
    "model.summary()"
   ]
  },
  {
   "cell_type": "code",
   "execution_count": 32,
   "metadata": {},
   "outputs": [
    {
     "name": "stdout",
     "output_type": "stream",
     "text": [
      "Epoch 1/20\n",
      "389/389 [==============================] - 9s 20ms/step - loss: 0.0063\n",
      "Epoch 2/20\n",
      "389/389 [==============================] - 5s 14ms/step - loss: 0.0024\n",
      "Epoch 3/20\n",
      "389/389 [==============================] - 4s 11ms/step - loss: 0.0019\n",
      "Epoch 4/20\n",
      "389/389 [==============================] - 4s 12ms/step - loss: 0.0017\n",
      "Epoch 5/20\n",
      "389/389 [==============================] - 6s 15ms/step - loss: 0.0016\n",
      "Epoch 6/20\n",
      "389/389 [==============================] - 7s 19ms/step - loss: 0.0015\n",
      "Epoch 7/20\n",
      "389/389 [==============================] - 6s 16ms/step - loss: 0.0014\n",
      "Epoch 8/20\n",
      "389/389 [==============================] - 6s 16ms/step - loss: 0.0013\n",
      "Epoch 9/20\n",
      "389/389 [==============================] - 6s 15ms/step - loss: 0.0013\n",
      "Epoch 10/20\n",
      "389/389 [==============================] - 5s 14ms/step - loss: 0.0012\n",
      "Epoch 11/20\n",
      "389/389 [==============================] - 4s 12ms/step - loss: 0.0012\n",
      "Epoch 12/20\n",
      "389/389 [==============================] - 4s 11ms/step - loss: 0.0012\n",
      "Epoch 13/20\n",
      "389/389 [==============================] - 4s 11ms/step - loss: 0.0011\n",
      "Epoch 14/20\n",
      "389/389 [==============================] - 4s 11ms/step - loss: 0.0011\n",
      "Epoch 15/20\n",
      "389/389 [==============================] - 6s 14ms/step - loss: 0.0011\n",
      "Epoch 16/20\n",
      "389/389 [==============================] - 5s 12ms/step - loss: 0.0011\n",
      "Epoch 17/20\n",
      "389/389 [==============================] - 5s 12ms/step - loss: 0.0011\n",
      "Epoch 18/20\n",
      "389/389 [==============================] - 4s 11ms/step - loss: 0.0010\n",
      "Epoch 19/20\n",
      "389/389 [==============================] - 4s 11ms/step - loss: 0.0010\n",
      "Epoch 20/20\n",
      "389/389 [==============================] - 4s 11ms/step - loss: 0.0010\n"
     ]
    },
    {
     "data": {
      "text/plain": [
       "<tensorflow.python.keras.callbacks.History at 0x21a804c8e50>"
      ]
     },
     "execution_count": 32,
     "metadata": {},
     "output_type": "execute_result"
    }
   ],
   "source": [
    "from keras.callbacks import TensorBoard\n",
    "\n",
    "model.fit(X_train, X_train, epochs=20, batch_size=100, callbacks=[TensorBoard(log_dir='/tmp/autoencoder')])"
   ]
  },
  {
   "cell_type": "code",
   "execution_count": 76,
   "metadata": {},
   "outputs": [
    {
     "name": "stdout",
     "output_type": "stream",
     "text": [
      "INFO:tensorflow:Assets written to: cae24_12_phone\\assets\n"
     ]
    }
   ],
   "source": [
    "# save model\n",
    "model.save('cae24_12_phone')"
   ]
  },
  {
   "cell_type": "code",
   "execution_count": 7,
   "metadata": {},
   "outputs": [],
   "source": [
    "# load model\n",
    "model = keras.models.load_model('cae24_12test')"
   ]
  },
  {
   "cell_type": "code",
   "execution_count": 8,
   "metadata": {},
   "outputs": [],
   "source": [
    "# encoder becomes output\n",
    "encoder = keras.Model(inputs=model.inputs, outputs=model.layers[3].output)"
   ]
  },
  {
   "cell_type": "code",
   "execution_count": 9,
   "metadata": {},
   "outputs": [
    {
     "name": "stdout",
     "output_type": "stream",
     "text": [
      "(38804, 6, 64)\n",
      "(7854, 6, 64)\n"
     ]
    }
   ],
   "source": [
    "encoded_train = encoder.predict(X_train, verbose=0)\n",
    "encoded_test = encoder.predict(X_test, verbose=0)\n",
    "print(encoded_train.shape)\n",
    "print(encoded_test.shape)"
   ]
  },
  {
   "cell_type": "code",
   "execution_count": 37,
   "metadata": {},
   "outputs": [
    {
     "name": "stdout",
     "output_type": "stream",
     "text": [
      "(38804, 384)\n",
      "(7854, 384)\n"
     ]
    }
   ],
   "source": [
    "encoded_train = flatten_sliding_window(encoded_train)\n",
    "encoded_test = flatten_sliding_window(encoded_test)\n",
    "print(encoded_train.shape)\n",
    "print(encoded_test.shape)"
   ]
  },
  {
   "cell_type": "markdown",
   "metadata": {},
   "source": [
    "# RAE"
   ]
  },
  {
   "cell_type": "code",
   "execution_count": 141,
   "metadata": {},
   "outputs": [
    {
     "name": "stdout",
     "output_type": "stream",
     "text": [
      "Model: \"sequential_1\"\n",
      "_________________________________________________________________\n",
      "Layer (type)                 Output Shape              Param #   \n",
      "=================================================================\n",
      "lstm_4 (LSTM)                (None, 20, 108)           95904     \n",
      "_________________________________________________________________\n",
      "lstm_5 (LSTM)                (None, 92)                73968     \n",
      "_________________________________________________________________\n",
      "dense_2 (Dense)              (None, 86)                7998      \n",
      "_________________________________________________________________\n",
      "repeat_vector_1 (RepeatVecto (None, 20, 86)            0         \n",
      "_________________________________________________________________\n",
      "lstm_6 (LSTM)                (None, 20, 92)            65872     \n",
      "_________________________________________________________________\n",
      "lstm_7 (LSTM)                (None, 20, 108)           86832     \n",
      "_________________________________________________________________\n",
      "time_distributed_1 (TimeDist (None, 20, 113)           12317     \n",
      "=================================================================\n",
      "Total params: 342,891\n",
      "Trainable params: 342,891\n",
      "Non-trainable params: 0\n",
      "_________________________________________________________________\n"
     ]
    }
   ],
   "source": [
    "from keras.models import Sequential\n",
    "from keras.layers import LSTM\n",
    "from keras.layers import Dense\n",
    "from keras.layers import RepeatVector\n",
    "from keras.layers import TimeDistributed\n",
    "# lstm autoencoder doesnt need a sliding window, redudent data can lead to overfitting\n",
    "\n",
    "model = Sequential()\n",
    "# encoder\n",
    "model.add(LSTM(108, activation='relu', input_shape=(SLIDING_WINDOW_LENGTH, 113), return_sequences=True))\n",
    "model.add(LSTM(92, activation='relu', return_sequences=False))\n",
    "model.add(Dense(86))\n",
    "# bottleneck\n",
    "model.add(RepeatVector(SLIDING_WINDOW_LENGTH))\n",
    "# decoder\n",
    "model.add(LSTM(92, activation='relu', return_sequences=True))\n",
    "model.add(LSTM(108, activation='relu', return_sequences=True))\n",
    "model.add(TimeDistributed(Dense(113)))\n",
    "model.compile(optimizer='adam', loss='mse')\n",
    "model.summary()"
   ]
  },
  {
   "cell_type": "code",
   "execution_count": 142,
   "metadata": {},
   "outputs": [
    {
     "name": "stdout",
     "output_type": "stream",
     "text": [
      "Epoch 1/20\n",
      "466/466 [==============================] - 38s 72ms/step - loss: 0.0577\n",
      "Epoch 2/20\n",
      "466/466 [==============================] - 29s 61ms/step - loss: 0.0032\n",
      "Epoch 3/20\n",
      "466/466 [==============================] - 28s 59ms/step - loss: 0.0024\n",
      "Epoch 4/20\n",
      "466/466 [==============================] - 28s 60ms/step - loss: 0.0022\n",
      "Epoch 5/20\n",
      "466/466 [==============================] - 28s 60ms/step - loss: 0.0020\n",
      "Epoch 6/20\n",
      "466/466 [==============================] - 28s 60ms/step - loss: 0.0019\n",
      "Epoch 7/20\n",
      "466/466 [==============================] - 28s 60ms/step - loss: 0.0018\n",
      "Epoch 8/20\n",
      "466/466 [==============================] - 28s 61ms/step - loss: 0.0017\n",
      "Epoch 9/20\n",
      "466/466 [==============================] - 28s 61ms/step - loss: 0.0017\n",
      "Epoch 10/20\n",
      "466/466 [==============================] - 28s 59ms/step - loss: 0.0016\n",
      "Epoch 11/20\n",
      "466/466 [==============================] - 28s 60ms/step - loss: 0.0016\n",
      "Epoch 12/20\n",
      "466/466 [==============================] - 28s 60ms/step - loss: 0.0016\n",
      "Epoch 13/20\n",
      "466/466 [==============================] - 28s 61ms/step - loss: 0.0015\n",
      "Epoch 14/20\n",
      "466/466 [==============================] - 29s 62ms/step - loss: 0.0015\n",
      "Epoch 15/20\n",
      "466/466 [==============================] - 28s 60ms/step - loss: 0.0015 0s - loss: 0.00\n",
      "Epoch 16/20\n",
      "466/466 [==============================] - 29s 63ms/step - loss: 0.0015\n",
      "Epoch 17/20\n",
      "466/466 [==============================] - 28s 61ms/step - loss: 0.0014\n",
      "Epoch 18/20\n",
      "466/466 [==============================] - 28s 61ms/step - loss: 0.0014\n",
      "Epoch 19/20\n",
      "466/466 [==============================] - 28s 61ms/step - loss: 0.0014\n",
      "Epoch 20/20\n",
      "466/466 [==============================] - 28s 60ms/step - loss: 0.0014\n"
     ]
    },
    {
     "data": {
      "text/plain": [
       "<tensorflow.python.keras.callbacks.History at 0x256a3fc8d00>"
      ]
     },
     "execution_count": 142,
     "metadata": {},
     "output_type": "execute_result"
    }
   ],
   "source": [
    "from keras.callbacks import TensorBoard\n",
    "\n",
    "model.fit(X_train, X_train, epochs=20, batch_size=100, callbacks=[TensorBoard(log_dir='/tmp/autoencoder')])"
   ]
  },
  {
   "cell_type": "code",
   "execution_count": 235,
   "metadata": {},
   "outputs": [
    {
     "name": "stdout",
     "output_type": "stream",
     "text": [
      "INFO:tensorflow:Assets written to: rae24_12t\\assets\n"
     ]
    }
   ],
   "source": [
    "model.save('rae24_12')"
   ]
  },
  {
   "cell_type": "code",
   "execution_count": 6,
   "metadata": {},
   "outputs": [],
   "source": [
    "model = keras.models.load_model('rae24_12')"
   ]
  },
  {
   "cell_type": "code",
   "execution_count": 7,
   "metadata": {},
   "outputs": [],
   "source": [
    "# encoder becomes output\n",
    "encoder = keras.Model(inputs=model.inputs, outputs=model.layers[2].output)"
   ]
  },
  {
   "cell_type": "code",
   "execution_count": 2,
   "metadata": {},
   "outputs": [
    {
     "ename": "NameError",
     "evalue": "name 'encoder' is not defined",
     "output_type": "error",
     "traceback": [
      "\u001b[1;31m---------------------------------------------------------------------------\u001b[0m",
      "\u001b[1;31mNameError\u001b[0m                                 Traceback (most recent call last)",
      "\u001b[1;32m<ipython-input-2-3339ae8be9b2>\u001b[0m in \u001b[0;36m<module>\u001b[1;34m\u001b[0m\n\u001b[0;32m      1\u001b[0m \u001b[1;31m# get encoded data\u001b[0m\u001b[1;33m\u001b[0m\u001b[1;33m\u001b[0m\u001b[1;33m\u001b[0m\u001b[0m\n\u001b[1;32m----> 2\u001b[1;33m \u001b[0mencoded_train\u001b[0m \u001b[1;33m=\u001b[0m \u001b[0mencoder\u001b[0m\u001b[1;33m.\u001b[0m\u001b[0mpredict\u001b[0m\u001b[1;33m(\u001b[0m\u001b[0mX_train\u001b[0m\u001b[1;33m,\u001b[0m \u001b[0mverbose\u001b[0m\u001b[1;33m=\u001b[0m\u001b[1;36m0\u001b[0m\u001b[1;33m)\u001b[0m\u001b[1;33m\u001b[0m\u001b[1;33m\u001b[0m\u001b[0m\n\u001b[0m\u001b[0;32m      3\u001b[0m \u001b[0mencoded_test\u001b[0m \u001b[1;33m=\u001b[0m \u001b[0mencoder\u001b[0m\u001b[1;33m.\u001b[0m\u001b[0mpredict\u001b[0m\u001b[1;33m(\u001b[0m\u001b[0mX_test\u001b[0m\u001b[1;33m,\u001b[0m \u001b[0mverbose\u001b[0m\u001b[1;33m=\u001b[0m\u001b[1;36m0\u001b[0m\u001b[1;33m)\u001b[0m\u001b[1;33m\u001b[0m\u001b[1;33m\u001b[0m\u001b[0m\n\u001b[0;32m      4\u001b[0m \u001b[0mprint\u001b[0m\u001b[1;33m(\u001b[0m\u001b[0mencoded_train\u001b[0m\u001b[1;33m.\u001b[0m\u001b[0mshape\u001b[0m\u001b[1;33m)\u001b[0m\u001b[1;33m\u001b[0m\u001b[1;33m\u001b[0m\u001b[0m\n\u001b[0;32m      5\u001b[0m \u001b[0mprint\u001b[0m\u001b[1;33m(\u001b[0m\u001b[0mencoded_test\u001b[0m\u001b[1;33m.\u001b[0m\u001b[0mshape\u001b[0m\u001b[1;33m)\u001b[0m\u001b[1;33m\u001b[0m\u001b[1;33m\u001b[0m\u001b[0m\n",
      "\u001b[1;31mNameError\u001b[0m: name 'encoder' is not defined"
     ]
    }
   ],
   "source": [
    "# get encoded data\n",
    "encoded_train = encoder.predict(X_train, verbose=0)\n",
    "encoded_test = encoder.predict(X_test, verbose=0)\n",
    "print(encoded_train.shape)\n",
    "print(encoded_test.shape)"
   ]
  },
  {
   "cell_type": "code",
   "execution_count": 42,
   "metadata": {},
   "outputs": [
    {
     "name": "stdout",
     "output_type": "stream",
     "text": [
      "Time:\n",
      "9.835370063781738\n"
     ]
    }
   ],
   "source": [
    "from sklearn.cluster import KMeans\n",
    "import operator\n",
    "\n",
    "NUMBER_OF_CLUSTERS = 11\n",
    "\n",
    "start = time.time()\n",
    "\n",
    "y_pred = KMeans(n_clusters=NUMBER_OF_CLUSTERS, random_state=0).fit(encoded_train).predict(encoded_test)\n",
    "#y_pred = KMeans(n_clusters=NUMBER_OF_CLUSTERS, random_state=0).fit(encoded_train, sample_weight=sample_weight_train).predict(encoded_test)\n",
    "\n",
    "end = time.time()\n",
    "\n",
    "print(\"Time:\")\n",
    "print(end - start)"
   ]
  },
  {
   "cell_type": "code",
   "execution_count": 43,
   "metadata": {},
   "outputs": [
    {
     "name": "stdout",
     "output_type": "stream",
     "text": [
      "Assigned Labels:\n",
      "[0, 0, 0, 2, 0, 0, 2, 0, 3, 1, 0]\n",
      "\n",
      "F1:\n",
      "0.7587270163282627\n",
      "\n",
      "Accuracy:\n",
      "0.6657754010695187\n",
      "\n",
      "ARI:\n",
      "0.4758076993848512\n"
     ]
    }
   ],
   "source": [
    "uy_pred = y_pred.copy()\n",
    "clusters = list(set(y_pred))\n",
    "clusters.sort()\n",
    "\n",
    "relabels = reassign_labels(uy_pred, y_test, set(uy_pred))\n",
    "#relabels = [3, 0, 0, 0, 0, 3, 2, 0, 0, 2, 1]\n",
    "\n",
    "uy_pred = relabel_list(uy_pred, clusters, relabels)\n",
    "print_results(uy_pred, y_test, relabels)"
   ]
  },
  {
   "cell_type": "code",
   "execution_count": 88,
   "metadata": {},
   "outputs": [
    {
     "data": {
      "image/png": "[encoded data removed]",
      "text/plain": [
       "<Figure size 432x288 with 2 Axes>"
      ]
     },
     "metadata": {
      "needs_background": "light"
     },
     "output_type": "display_data"
    }
   ],
   "source": [
    "# Confusion Matrix\n",
    "cm = metrics.confusion_matrix(y_test, uy_pred)\n",
    "\n",
    "disp = ConfusionMatrixDisplay(confusion_matrix=cm, display_labels=classes)\n",
    "disp = disp.plot()\n",
    "\n",
    "#plt.savefig('confusion_matricies/c4_f113_km' + str(NUMBER_OF_CLUSTERS) + '+sw24_12+cae.png') # number of classes, features, method\n",
    "plt.show()"
   ]
  },
  {
   "cell_type": "markdown",
   "metadata": {},
   "source": [
    "# CNN"
   ]
  },
  {
   "cell_type": "code",
   "execution_count": 30,
   "metadata": {},
   "outputs": [
    {
     "name": "stdout",
     "output_type": "stream",
     "text": [
      "Model: \"sequential_4\"\n",
      "_________________________________________________________________\n",
      "Layer (type)                 Output Shape              Param #   \n",
      "=================================================================\n",
      "conv1d_4 (Conv1D)            (None, 6, 64)             12352     \n",
      "_________________________________________________________________\n",
      "max_pooling1d_4 (MaxPooling1 (None, 3, 64)             0         \n",
      "_________________________________________________________________\n",
      "flatten_4 (Flatten)          (None, 192)               0         \n",
      "_________________________________________________________________\n",
      "dense_8 (Dense)              (None, 64)                12352     \n",
      "_________________________________________________________________\n",
      "dense_9 (Dense)              (None, 4)                 260       \n",
      "=================================================================\n",
      "Total params: 24,964\n",
      "Trainable params: 24,964\n",
      "Non-trainable params: 0\n",
      "_________________________________________________________________\n"
     ]
    }
   ],
   "source": [
    "from keras.layers import Dense, Conv1D, MaxPooling1D, Flatten, Activation\n",
    "from keras.models import Sequential\n",
    "\n",
    "model = Sequential()\n",
    "model.add(Conv1D(64, 3, activation='relu', input_shape=(6, 64), padding=\"same\"))\n",
    "model.add(MaxPooling1D(2, padding=\"valid\"))\n",
    "#model.add(Conv1D(64, 3, activation=\"relu\", padding=\"same\"))\n",
    "#model.add(MaxPooling1D(2, padding=\"valid\"))\n",
    "model.add(Flatten())\n",
    "model.add(Dense(64, activation='relu'))\n",
    "model.add(Dense(4, activation='softmax'))\n",
    "model.compile(optimizer='adam', loss='categorical_crossentropy')\n",
    "model.summary()"
   ]
  },
  {
   "cell_type": "code",
   "execution_count": 10,
   "metadata": {},
   "outputs": [
    {
     "data": {
      "text/plain": [
       "LabelBinarizer()"
      ]
     },
     "execution_count": 10,
     "metadata": {},
     "output_type": "execute_result"
    }
   ],
   "source": [
    "from sklearn import preprocessing\n",
    "\n",
    "lb = preprocessing.LabelBinarizer()\n",
    "lb.fit([0,1,2,3])"
   ]
  },
  {
   "cell_type": "code",
   "execution_count": 31,
   "metadata": {},
   "outputs": [
    {
     "name": "stdout",
     "output_type": "stream",
     "text": [
      "Epoch 1/15\n",
      "389/389 [==============================] - 2s 5ms/step - loss: 0.6364\n",
      "Epoch 2/15\n",
      "389/389 [==============================] - 1s 2ms/step - loss: 0.3601\n",
      "Epoch 3/15\n",
      "389/389 [==============================] - 1s 2ms/step - loss: 0.3037\n",
      "Epoch 4/15\n",
      "389/389 [==============================] - 1s 2ms/step - loss: 0.2852\n",
      "Epoch 5/15\n",
      "389/389 [==============================] - 1s 2ms/step - loss: 0.2706\n",
      "Epoch 6/15\n",
      "389/389 [==============================] - 1s 2ms/step - loss: 0.2514\n",
      "Epoch 7/15\n",
      "389/389 [==============================] - 1s 2ms/step - loss: 0.2430\n",
      "Epoch 8/15\n",
      "389/389 [==============================] - 1s 2ms/step - loss: 0.2526\n",
      "Epoch 9/15\n",
      "389/389 [==============================] - 1s 2ms/step - loss: 0.2346\n",
      "Epoch 10/15\n",
      "389/389 [==============================] - 1s 2ms/step - loss: 0.2401\n",
      "Epoch 11/15\n",
      "389/389 [==============================] - 1s 2ms/step - loss: 0.2272\n",
      "Epoch 12/15\n",
      "389/389 [==============================] - 1s 2ms/step - loss: 0.2176\n",
      "Epoch 13/15\n",
      "389/389 [==============================] - 1s 2ms/step - loss: 0.2222\n",
      "Epoch 14/15\n",
      "389/389 [==============================] - 1s 2ms/step - loss: 0.2329\n",
      "Epoch 15/15\n",
      "389/389 [==============================] - 1s 2ms/step - loss: 0.2218\n"
     ]
    },
    {
     "data": {
      "text/plain": [
       "<tensorflow.python.keras.callbacks.History at 0x2a1b18a7ee0>"
      ]
     },
     "execution_count": 31,
     "metadata": {},
     "output_type": "execute_result"
    }
   ],
   "source": [
    "from keras.callbacks import TensorBoard\n",
    "\n",
    "model.fit(encoded_train, lb.transform(y_train), epochs=15, batch_size=100, callbacks=[TensorBoard(log_dir='/tmp/cnn')])"
   ]
  },
  {
   "cell_type": "code",
   "execution_count": 32,
   "metadata": {},
   "outputs": [],
   "source": [
    "predicted = model.predict(encoded_test)\n",
    "predicted = np.round(predicted)\n",
    "predicted = lb.inverse_transform(predicted)"
   ]
  },
  {
   "cell_type": "code",
   "execution_count": 33,
   "metadata": {},
   "outputs": [
    {
     "name": "stdout",
     "output_type": "stream",
     "text": [
      "0.9182430991930184\n"
     ]
    }
   ],
   "source": [
    "from sklearn.metrics import f1_score\n",
    "\n",
    "print(f1_score(y_test, predicted, average='weighted'))"
   ]
  },
  {
   "cell_type": "code",
   "execution_count": 18,
   "metadata": {},
   "outputs": [
    {
     "data": {
      "image/png": "[encoded data removed]",
      "text/plain": [
       "<Figure size 1440x432 with 3 Axes>"
      ]
     },
     "metadata": {
      "needs_background": "light"
     },
     "output_type": "display_data"
    }
   ],
   "source": [
    "def column(matrix, i):\n",
    "    return [row[i] for row in matrix]\n",
    "\n",
    "def plot_sensor(ax, index, data, length, title, xlabel, ylabel):\n",
    "    time = list(range(0,length))\n",
    "    x = column(X_train, data[0])[:length]\n",
    "    y = column(X_train, data[1])[:length]\n",
    "    z = column(X_train, data[2])[:length]\n",
    "    \n",
    "    ax[index].plot(time, x, label=\"x-axis\")\n",
    "    ax[index].plot(time, y, label=\"y-axis\")\n",
    "    ax[index].plot(time, z, label=\"z-axis\")\n",
    "    ax[index].set(title=title, xlabel=xlabel, ylabel=ylabel)\n",
    "    ax[index].legend(loc=\"upper right\")\n",
    "\n",
    "\n",
    "fig, ax = plt.subplots(figsize=(20,6), nrows=1, ncols=3)\n",
    "plot_sensor(ax, 0, [36,37,38], 300, \"BACK\", \"Milliseconds\", \"Millig-unit\")\n",
    "plot_sensor(ax, 1, [0,1,2], 300, \"HIP\", \"Milliseconds\", \"Millig-unit\")\n",
    "plot_sensor(ax, 2, [3,4,5], 300, \"RKN^\", \"Milliseconds\", \"Millig-unit\")"
   ]
  },
  {
   "cell_type": "code",
   "execution_count": null,
   "metadata": {},
   "outputs": [],
   "source": []
  }
 ],
 "metadata": {
  "kernelspec": {
   "display_name": "Python 3",
   "language": "python",
   "name": "python3"
  },
  "language_info": {
   "codemirror_mode": {
    "name": "ipython",
    "version": 3
   },
   "file_extension": ".py",
   "mimetype": "text/x-python",
   "name": "python",
   "nbconvert_exporter": "python",
   "pygments_lexer": "ipython3",
   "version": "3.8.5"
  }
 },
 "nbformat": 4,
 "nbformat_minor": 1
}
