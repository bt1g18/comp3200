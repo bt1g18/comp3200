{
 "cells": [
  {
   "cell_type": "code",
   "execution_count": 1,
   "metadata": {},
   "outputs": [],
   "source": [
    "import time\n",
    "import collections\n",
    "import pickle\n",
    "import keras\n",
    "import pandas as pd\n",
    "import numpy as np\n",
    "import matplotlib.pyplot as plt\n",
    "from sklearn import metrics\n",
    "from sklearn.metrics import ConfusionMatrixDisplay\n",
    "from sklearn.decomposition import PCA\n",
    "from sklearn.model_selection import train_test_split\n",
    "from sklearn.cluster import KMeans\n",
    "from sliding_window import sliding_window\n",
    "from cluster_eval import greedy_relabel\n",
    "from cluster_eval import brute_relabel\n",
    "from cluster_eval import print_results\n",
    "from cluster_eval import relabel_list\n",
    "from keras import layers\n",
    "\n",
    "# Hardcoded length of the sliding window mechanism employed to segment the data\n",
    "SLIDING_WINDOW_LENGTH = 24\n",
    "\n",
    "# Hardcoded step of the sliding window mechanism employed to segment the data\n",
    "SLIDING_WINDOW_STEP = 12"
   ]
  },
  {
   "cell_type": "code",
   "execution_count": 2,
   "metadata": {},
   "outputs": [
    {
     "name": "stdout",
     "output_type": "stream",
     "text": [
      "Loading data...\n",
      " ..from file oppChallenge_locomotion.data\n",
      " ..reading instances: train (557963, 113), test (118750, 113)\n",
      "(465668, 113)\n",
      "(94260, 113)\n",
      "{0: 231751, 1: 130506, 2: 88883, 3: 14528}\n"
     ]
    }
   ],
   "source": [
    "def load_dataset(filename):\n",
    "\n",
    "    f = open(filename, 'rb')\n",
    "    data = pickle.load(f)\n",
    "    f.close()\n",
    "\n",
    "    X_train, y_train = data[0]\n",
    "    X_test, y_test = data[1]\n",
    "\n",
    "    print(\" ..from file {}\".format(filename))\n",
    "    print(\" ..reading instances: train {0}, test {1}\".format(X_train.shape, X_test.shape))\n",
    "\n",
    "    X_train = X_train.astype(np.float32)\n",
    "    X_test = X_test.astype(np.float32)\n",
    "\n",
    "    # The targets are casted to int8 for GPU compatibility.\n",
    "    y_train = y_train.astype(np.uint8)\n",
    "    y_test = y_test.astype(np.uint8)\n",
    "\n",
    "    return X_train, y_train, X_test, y_test\n",
    "\n",
    "def remove_class(X_train, y_train, X_test, y_test, class_n):\n",
    "    uy_train = y_train[y_train != class_n]\n",
    "    uX_train = X_train[y_train != class_n]\n",
    "    uy_test = y_test[y_test != class_n]\n",
    "    uX_test = X_test[y_test != class_n]\n",
    "    \n",
    "    classes = set(y_train)\n",
    "    \n",
    "    for x in range(class_n + 1, len(classes)):\n",
    "        uy_train[uy_train == x] = x - 1\n",
    "        uy_test[uy_test == x] = x - 1\n",
    "        \n",
    "    return uX_train, uy_train, uX_test, uy_test\n",
    "\n",
    "print(\"Loading data...\")\n",
    "X_train, y_train, X_test, y_test = load_dataset('oppChallenge_locomotion.data')\n",
    "\n",
    "# def delete_features():\n",
    "# RKN^, RKN_, BACK, HIP, R-SHOE, L-SHOE\n",
    "# 53 Features\n",
    "\n",
    "#features_delete = np.arange(6, 15)\n",
    "#features_delete = np.concatenate([features_delete, np.arange(21, 36)])\n",
    "#features_delete = np.concatenate([features_delete, np.arange(45, 81)])\n",
    "\n",
    "# 60 Features\n",
    "#features_delete = np.arange(0, 6)\n",
    "#features_delete = np.concatenate([features_delete, np.arange(15, 21)])\n",
    "#features_delete = np.concatenate([features_delete, np.arange(36, 45)])\n",
    "#features_delete = np.concatenate([features_delete, np.arange(81, 113)])\n",
    "\n",
    "# 9 Features (Phone)\n",
    "#features_delete = np.arange(0, 36)\n",
    "#features_delete = np.concatenate([features_delete, np.arange(45, 113)])\n",
    "\n",
    "#features_delete = np.concatenate([features_delete, np.arange(6, 113)])\n",
    "\n",
    "#X_train = np.delete(X_train, features_delete, 1)\n",
    "#X_test = np.delete(X_test, features_delete, 1)\n",
    "\n",
    "classes = [\"Null\", \"Stand\", \"Walk\" ,\"Sit\", \"Lie\"]\n",
    "\n",
    "# 0 - null | 1 - stand | 2 - walk | 3 - sit | 4 - lie\n",
    "\n",
    "X_train, y_train, X_test, y_test = remove_class(X_train, y_train, X_test, y_test, 0) # remove null\n",
    "classes.remove(\"Null\")\n",
    "\n",
    "# 0 - stand | 1 - walk | 2 - sit | 3 - lie\n",
    "\n",
    "#X_train, y_train, X_test, y_test = remove_class(X_train, y_train, X_test, y_test, 1) # remove walking\n",
    "#classes.remove(\"Walk\")\n",
    "\n",
    "#X_train, y_train, X_test, y_test = remove_class(X_train, y_train, X_test, y_test, 3) # remove walking\n",
    "#classes.remove(\"Lie\")\n",
    "\n",
    "#X_train, y_train, X_test, y_test = remove_class(X_train, y_train, X_test, y_test, 2) # remove walking\n",
    "#classes.remove(\"Sit\")\n",
    "\n",
    "# 0 - stand | 1 - sit | 2 - lie\n",
    "\n",
    "print(X_train.shape)\n",
    "print(X_test.shape)\n",
    "\n",
    "unique, counts = np.unique(y_train, return_counts=True)\n",
    "label_dict = dict(zip(unique, counts))\n",
    "print(label_dict)"
   ]
  },
  {
   "cell_type": "code",
   "execution_count": 3,
   "metadata": {},
   "outputs": [
    {
     "name": "stdout",
     "output_type": "stream",
     "text": [
      " ..after sliding window (testing): inputs (7854, 24, 113), targets (7854,)\n",
      "(38804, 24, 113)\n",
      "(7854, 24, 113)\n"
     ]
    }
   ],
   "source": [
    "def opp_sliding_window(data_x, data_y, ws, ss):\n",
    "    data_x = sliding_window(data_x,(ws,data_x.shape[1]),(ss,1))\n",
    "    data_y = np.asarray([[i[-1]] for i in sliding_window(data_y,ws,ss)])\n",
    "    return data_x.astype(np.float32), data_y.reshape(len(data_y)).astype(np.uint8)\n",
    "\n",
    "# Sensor data is segmented using a sliding window mechanism\n",
    "\n",
    "X_train, y_train = opp_sliding_window(X_train, y_train, SLIDING_WINDOW_LENGTH, SLIDING_WINDOW_STEP)\n",
    "X_test, y_test = opp_sliding_window(X_test, y_test, SLIDING_WINDOW_LENGTH, SLIDING_WINDOW_STEP)\n",
    "\n",
    "print(\" ..after sliding window (testing): inputs {0}, targets {1}\".format(X_test.shape, y_test.shape))\n",
    "\n",
    "#X_train = np.reshape(X_train,(X_train.shape[0],X_train.shape[1]*X_train.shape[2]))\n",
    "#X_test = np.reshape(X_test,(X_test.shape[0],X_test.shape[1]*X_test.shape[2]))\n",
    "\n",
    "# Data is reshaped since the input of the network is a 4 dimension tensor\n",
    "#X_train = X_train.reshape((-1, 1, SLIDING_WINDOW_LENGTH, NB_SENSOR_CHANNELS))\n",
    "#X_test = X_test.reshape((-1, 1, SLIDING_WINDOW_LENGTH, NB_SENSOR_CHANNELS))\n",
    "\n",
    "print(X_train.shape)\n",
    "print(X_test.shape)"
   ]
  },
  {
   "cell_type": "code",
   "execution_count": 4,
   "metadata": {},
   "outputs": [],
   "source": [
    "# flatten sliding window\n",
    "\n",
    "def flatten_sliding_window(X_data):\n",
    "    return X_data.reshape(X_data.shape[0], (X_data.shape[1] * X_data.shape[2]))"
   ]
  },
  {
   "cell_type": "code",
   "execution_count": 5,
   "metadata": {},
   "outputs": [],
   "source": [
    "import operator\n",
    "import tensorflow as tf\n",
    "from numpy.random import seed\n",
    "from keras.layers import Input, Dense, Conv1D, MaxPooling1D, UpSampling1D\n",
    "from keras.models import Sequential\n",
    "from keras.callbacks import TensorBoard\n",
    "from sklearn.cluster import KMeans"
   ]
  },
  {
   "cell_type": "code",
   "execution_count": 15,
   "metadata": {},
   "outputs": [
    {
     "name": "stdout",
     "output_type": "stream",
     "text": [
      "Model: \"sequential_3\"\n",
      "_________________________________________________________________\n",
      "Layer (type)                 Output Shape              Param #   \n",
      "=================================================================\n",
      "conv1d_15 (Conv1D)           (None, 24, 128)           43520     \n",
      "_________________________________________________________________\n",
      "max_pooling1d_6 (MaxPooling1 (None, 12, 128)           0         \n",
      "_________________________________________________________________\n",
      "conv1d_16 (Conv1D)           (None, 12, 64)            24640     \n",
      "_________________________________________________________________\n",
      "max_pooling1d_7 (MaxPooling1 (None, 6, 64)             0         \n",
      "_________________________________________________________________\n",
      "conv1d_17 (Conv1D)           (None, 6, 64)             12352     \n",
      "_________________________________________________________________\n",
      "up_sampling1d_6 (UpSampling1 (None, 12, 64)            0         \n",
      "_________________________________________________________________\n",
      "conv1d_18 (Conv1D)           (None, 12, 128)           24704     \n",
      "_________________________________________________________________\n",
      "up_sampling1d_7 (UpSampling1 (None, 24, 128)           0         \n",
      "_________________________________________________________________\n",
      "conv1d_19 (Conv1D)           (None, 24, 113)           43505     \n",
      "=================================================================\n",
      "Total params: 148,721\n",
      "Trainable params: 148,721\n",
      "Non-trainable params: 0\n",
      "_________________________________________________________________\n"
     ]
    }
   ],
   "source": [
    "n = 0\n",
    "seed(n)\n",
    "tf.random.set_seed(n)\n",
    "\n",
    "model = Sequential()\n",
    "# encoder\n",
    "model.add(Conv1D(128, 3, activation=\"relu\", input_shape=(SLIDING_WINDOW_LENGTH, 113), padding=\"same\"))\n",
    "model.add(MaxPooling1D(2, padding=\"same\"))\n",
    "model.add(Conv1D(64, 3, activation=\"relu\", padding=\"same\"))\n",
    "model.add(MaxPooling1D(2, padding=\"same\"))\n",
    "#model.add(Conv1D(64, 3, activation=\"relu\", padding=\"same\"))\n",
    "#model.add(MaxPooling1D(2, padding=\"same\"))\n",
    "# decoder\n",
    "#model.add(Conv1D(64, 3, activation=\"relu\", padding=\"same\"))\n",
    "#model.add(UpSampling1D(2)) \n",
    "model.add(Conv1D(64, 3, activation=\"relu\", padding=\"same\"))\n",
    "model.add(UpSampling1D(2))\n",
    "model.add(Conv1D(128, 3, activation=\"relu\", padding=\"same\"))\n",
    "model.add(UpSampling1D(2))\n",
    "model.add(Conv1D(113, 3, activation=\"sigmoid\", padding=\"same\"))\n",
    "model.compile(optimizer=\"adam\", loss=\"mse\")\n",
    "model.summary()"
   ]
  },
  {
   "cell_type": "code",
   "execution_count": 16,
   "metadata": {},
   "outputs": [
    {
     "name": "stdout",
     "output_type": "stream",
     "text": [
      "Epoch 1/15\n",
      "330/330 [==============================] - 7s 19ms/step - loss: 0.0057 - val_loss: 0.0028\n",
      "Epoch 2/15\n",
      "330/330 [==============================] - 6s 19ms/step - loss: 0.0020 - val_loss: 0.0023\n",
      "Epoch 3/15\n",
      "330/330 [==============================] - 6s 19ms/step - loss: 0.0016 - val_loss: 0.0020\n",
      "Epoch 4/15\n",
      "330/330 [==============================] - 6s 18ms/step - loss: 0.0014 - val_loss: 0.0019\n",
      "Epoch 5/15\n",
      "330/330 [==============================] - 6s 18ms/step - loss: 0.0012 - val_loss: 0.0018\n",
      "Epoch 6/15\n",
      "330/330 [==============================] - 6s 18ms/step - loss: 0.0012 - val_loss: 0.0017\n",
      "Epoch 7/15\n",
      "330/330 [==============================] - 6s 18ms/step - loss: 0.0011 - val_loss: 0.0016\n",
      "Epoch 8/15\n",
      "330/330 [==============================] - 6s 18ms/step - loss: 0.0011 - val_loss: 0.0016\n",
      "Epoch 9/15\n",
      "330/330 [==============================] - 6s 18ms/step - loss: 0.0010 - val_loss: 0.0015\n",
      "Epoch 10/15\n",
      "330/330 [==============================] - 6s 18ms/step - loss: 9.9551e-04 - val_loss: 0.0016\n",
      "Epoch 11/15\n",
      "330/330 [==============================] - 6s 18ms/step - loss: 9.7796e-04 - val_loss: 0.0015\n",
      "Epoch 12/15\n",
      "330/330 [==============================] - 6s 18ms/step - loss: 9.3931e-04 - val_loss: 0.0014\n",
      "Epoch 13/15\n",
      "330/330 [==============================] - 6s 18ms/step - loss: 9.1996e-04 - val_loss: 0.0014\n",
      "Epoch 14/15\n",
      "330/330 [==============================] - 6s 18ms/step - loss: 8.9717e-04 - val_loss: 0.0014\n",
      "Epoch 15/15\n",
      "330/330 [==============================] - 6s 18ms/step - loss: 8.7179e-04 - val_loss: 0.0014\n"
     ]
    },
    {
     "data": {
      "text/plain": [
       "<tensorflow.python.keras.callbacks.History at 0x23e855d4490>"
      ]
     },
     "execution_count": 16,
     "metadata": {},
     "output_type": "execute_result"
    }
   ],
   "source": [
    "model.fit(X_train, X_train, epochs=15, batch_size=100, validation_split=0.15)"
   ]
  },
  {
   "cell_type": "code",
   "execution_count": 50,
   "metadata": {},
   "outputs": [
    {
     "name": "stdout",
     "output_type": "stream",
     "text": [
      "INFO:tensorflow:Assets written to: cae24_12_s3_d2\\assets\n"
     ]
    }
   ],
   "source": [
    "# save model\n",
    "model.save('cae24_12_s8_d2')"
   ]
  },
  {
   "cell_type": "code",
   "execution_count": 24,
   "metadata": {},
   "outputs": [],
   "source": [
    "# load model\n",
    "model = keras.models.load_model('cae24_12test')"
   ]
  },
  {
   "cell_type": "code",
   "execution_count": 17,
   "metadata": {},
   "outputs": [],
   "source": [
    "# encoder becomes output\n",
    "encoder = keras.Model(inputs=model.inputs, outputs=model.layers[3].output)"
   ]
  },
  {
   "cell_type": "code",
   "execution_count": 18,
   "metadata": {},
   "outputs": [
    {
     "name": "stdout",
     "output_type": "stream",
     "text": [
      "(38804, 6, 64)\n",
      "(7854, 6, 64)\n"
     ]
    }
   ],
   "source": [
    "encoded_train = encoder.predict(X_train, verbose=0)\n",
    "encoded_test = encoder.predict(X_test, verbose=0)\n",
    "print(encoded_train.shape)\n",
    "print(encoded_test.shape)"
   ]
  },
  {
   "cell_type": "code",
   "execution_count": 19,
   "metadata": {},
   "outputs": [
    {
     "name": "stdout",
     "output_type": "stream",
     "text": [
      "(38804, 384)\n",
      "(7854, 384)\n"
     ]
    }
   ],
   "source": [
    "encoded_train = flatten_sliding_window(encoded_train)\n",
    "encoded_test = flatten_sliding_window(encoded_test)\n",
    "print(encoded_train.shape)\n",
    "print(encoded_test.shape)"
   ]
  },
  {
   "cell_type": "code",
   "execution_count": 20,
   "metadata": {},
   "outputs": [
    {
     "name": "stdout",
     "output_type": "stream",
     "text": [
      "Time:\n",
      "10.76755976676941\n"
     ]
    }
   ],
   "source": [
    "NUMBER_OF_CLUSTERS = 11\n",
    "\n",
    "start = time.time()\n",
    "\n",
    "y_pred = KMeans(n_clusters=NUMBER_OF_CLUSTERS, random_state=0).fit(encoded_train).predict(encoded_test)\n",
    "\n",
    "end = time.time()\n",
    "\n",
    "print(\"Time:\")\n",
    "print(end - start)"
   ]
  },
  {
   "cell_type": "code",
   "execution_count": 21,
   "metadata": {},
   "outputs": [
    {
     "name": "stdout",
     "output_type": "stream",
     "text": [
      "Assigned Labels:\n",
      "[0, 1, 0, 0, 0, 0, 0, 3, 0, 3, 2]\n",
      "\n",
      "F1:\n",
      "0.7847791224457888\n",
      "\n",
      "Accuracy:\n",
      "0.683982683982684\n",
      "\n",
      "ARI:\n",
      "0.4806471092946655\n"
     ]
    }
   ],
   "source": [
    "uy_pred = y_pred.copy()\n",
    "clusters = list(set(y_pred))\n",
    "clusters.sort()\n",
    "\n",
    "#relabels = brute_relabel(uy_pred, y_test)\n",
    "#relabels = greedy_relabel(uy_pred, y_test)\n",
    "relabels = [0, 1, 0, 0, 0, 0, 0, 3, 0, 3, 2]\n",
    "\n",
    "uy_pred = relabel_list(uy_pred, clusters, relabels)\n",
    "print_results(uy_pred, y_test, relabels)"
   ]
  },
  {
   "cell_type": "code",
   "execution_count": 7,
   "metadata": {},
   "outputs": [
    {
     "name": "stdout",
     "output_type": "stream",
     "text": [
      "330/330 [==============================] - 10s 27ms/step - loss: 0.0057 - val_loss: 0.0028\n",
      "Time:\n",
      "11.832189321517944\n",
      "\n",
      "Assigned Labels:\n",
      "[3, 0, 1, 2, 1, 1, 0, 2, 0, 0, 3]\n",
      "\n",
      "F1:\n",
      "0.7090217371241742\n",
      "\n",
      "Accuracy:\n",
      "0.7100840336134454\n",
      "\n",
      "ARI:\n",
      "0.3923432630755432\n",
      "330/330 [==============================] - 8s 22ms/step - loss: 0.0057 - val_loss: 0.0028\n",
      "Time:\n",
      "11.730547904968262\n",
      "\n",
      "Assigned Labels:\n",
      "[1, 2, 1, 3, 0, 0, 0, 3, 1, 2, 0]\n",
      "\n",
      "F1:\n",
      "0.7201330244662346\n",
      "\n",
      "Accuracy:\n",
      "0.7201426024955436\n",
      "\n",
      "ARI:\n",
      "0.41181562391161614\n",
      "330/330 [==============================] - 8s 22ms/step - loss: 0.0054 - val_loss: 0.0027\n",
      "Time:\n",
      "12.178512811660767\n",
      "\n",
      "Assigned Labels:\n",
      "[3, 1, 2, 0, 0, 1, 0, 2, 1, 3, 1]\n",
      "\n",
      "F1:\n",
      "0.7290320068651118\n",
      "\n",
      "Accuracy:\n",
      "0.7298192004074358\n",
      "\n",
      "ARI:\n",
      "0.42506117805220467\n",
      "330/330 [==============================] - 8s 22ms/step - loss: 0.0057 - val_loss: 0.0029\n",
      "Time:\n",
      "12.556668519973755\n",
      "\n",
      "Assigned Labels:\n",
      "[0, 0, 1, 2, 1, 0, 0, 1, 3, 0, 2]\n",
      "\n",
      "F1:\n",
      "0.7026348310870234\n",
      "\n",
      "Accuracy:\n",
      "0.7035905271199389\n",
      "\n",
      "ARI:\n",
      "0.3685434638432678\n",
      "330/330 [==============================] - 8s 22ms/step - loss: 0.0057 - val_loss: 0.0029\n",
      "Time:\n",
      "13.066158294677734\n",
      "\n",
      "Assigned Labels:\n",
      "[1, 0, 3, 3, 1, 2, 0, 1, 0, 2, 0]\n",
      "\n",
      "F1:\n",
      "0.7318308312607664\n",
      "\n",
      "Accuracy:\n",
      "0.732620320855615\n",
      "\n",
      "ARI:\n",
      "0.4340680830672817\n",
      "330/330 [==============================] - 8s 23ms/step - loss: 0.0058 - val_loss: 0.0029\n",
      "Time:\n",
      "12.316086292266846\n",
      "\n",
      "Assigned Labels:\n",
      "[3, 1, 2, 1, 2, 1, 0, 3, 1, 0, 0]\n",
      "\n",
      "F1:\n",
      "0.6975497014495179\n",
      "\n",
      "Accuracy:\n",
      "0.7023172905525846\n",
      "\n",
      "ARI:\n",
      "0.38946736777277724\n",
      "330/330 [==============================] - 8s 22ms/step - loss: 0.0056 - val_loss: 0.0027\n",
      "Time:\n",
      "12.714354753494263\n",
      "\n",
      "Assigned Labels:\n",
      "[1, 2, 0, 1, 0, 0, 1, 3, 2, 1, 0]\n",
      "\n",
      "F1:\n",
      "0.697027905161342\n",
      "\n",
      "Accuracy:\n",
      "0.6991341991341992\n",
      "\n",
      "ARI:\n",
      "0.3627123648532207\n",
      "330/330 [==============================] - 8s 23ms/step - loss: 0.0056 - val_loss: 0.0027\n",
      "Time:\n",
      "12.120198249816895\n",
      "\n",
      "Assigned Labels:\n",
      "[1, 1, 2, 0, 1, 0, 3, 0, 0, 2, 1]\n",
      "\n",
      "F1:\n",
      "0.7185177444312996\n",
      "\n",
      "Accuracy:\n",
      "0.7178507766743061\n",
      "\n",
      "ARI:\n",
      "0.3979631213790125\n",
      "330/330 [==============================] - 8s 22ms/step - loss: 0.0057 - val_loss: 0.0028\n",
      "Time:\n",
      "12.602684497833252\n",
      "\n",
      "Assigned Labels:\n",
      "[3, 2, 1, 0, 2, 0, 0, 1, 3, 0, 1]\n",
      "\n",
      "F1:\n",
      "0.7094050680005058\n",
      "\n",
      "Accuracy:\n",
      "0.7098293862999745\n",
      "\n",
      "ARI:\n",
      "0.4079531468794839\n",
      "330/330 [==============================] - 9s 24ms/step - loss: 0.0058 - val_loss: 0.0029\n",
      "Time:\n",
      "12.010598182678223\n",
      "\n",
      "Assigned Labels:\n",
      "[1, 3, 0, 0, 2, 1, 1, 3, 1, 0, 2]\n",
      "\n",
      "F1:\n",
      "0.6821883097155137\n",
      "\n",
      "Accuracy:\n",
      "0.6867838044308633\n",
      "\n",
      "ARI:\n",
      "0.3811140921594585\n"
     ]
    }
   ],
   "source": [
    "for n in range(0,10):\n",
    "    seed(n)\n",
    "    tf.random.set_seed(n)\n",
    "\n",
    "    model = Sequential()\n",
    "    # encoder\n",
    "    model.add(Conv1D(128, 3, activation=\"relu\", input_shape=(SLIDING_WINDOW_LENGTH, 113), padding=\"same\"))\n",
    "    model.add(MaxPooling1D(2, padding=\"same\"))\n",
    "    model.add(Conv1D(64, 3, activation=\"relu\", padding=\"same\"))\n",
    "    model.add(MaxPooling1D(2, padding=\"same\"))\n",
    "    #model.add(Conv1D(64, 3, activation=\"relu\", padding=\"same\"))\n",
    "    #model.add(MaxPooling1D(2, padding=\"same\"))\n",
    "    # decoder\n",
    "    #model.add(Conv1D(64, 3, activation=\"relu\", padding=\"same\"))\n",
    "    #model.add(UpSampling1D(2)) \n",
    "    model.add(Conv1D(64, 3, activation=\"relu\", padding=\"same\"))\n",
    "    model.add(UpSampling1D(2))\n",
    "    model.add(Conv1D(128, 3, activation=\"relu\", padding=\"same\"))\n",
    "    model.add(UpSampling1D(2))\n",
    "    model.add(Conv1D(113, 3, activation=\"sigmoid\", padding=\"same\"))\n",
    "    opt = keras.optimizers.Adam(learning_rate=0.0001)\n",
    "    model.compile(optimizer=\"adam\", loss=\"mse\")\n",
    "    model.fit(X_train, X_train, epochs=1, batch_size=100, validation_split=0.15)\n",
    "    \n",
    "    encoder = keras.Model(inputs=model.inputs, outputs=model.layers[3].output)\n",
    "    encoded_train = encoder.predict(X_train, verbose=0)\n",
    "    encoded_test = encoder.predict(X_test, verbose=0)\n",
    "    encoded_train = flatten_sliding_window(encoded_train)\n",
    "    encoded_test = flatten_sliding_window(encoded_test)\n",
    "    \n",
    "    NUMBER_OF_CLUSTERS = 11\n",
    "\n",
    "    start = time.time()\n",
    "    y_pred = KMeans(n_clusters=NUMBER_OF_CLUSTERS, random_state=0).fit(encoded_train).predict(encoded_test)\n",
    "    end = time.time()\n",
    "\n",
    "    print(\"Time:\")\n",
    "    print(end - start)\n",
    "    print()\n",
    "    \n",
    "    uy_pred = y_pred.copy()\n",
    "    clusters = list(set(y_pred))\n",
    "    clusters.sort()\n",
    "\n",
    "    relabels = greedy_relabel(uy_pred, y_test)\n",
    "\n",
    "    uy_pred = relabel_list(uy_pred, clusters, relabels)\n",
    "    print_results(uy_pred, y_test, relabels)"
   ]
  },
  {
   "cell_type": "code",
   "execution_count": 22,
   "metadata": {
    "scrolled": true
   },
   "outputs": [
    {
     "data": {
      "image/png": "[encoded data removed]",
      "text/plain": [
       "<Figure size 432x288 with 2 Axes>"
      ]
     },
     "metadata": {
      "needs_background": "light"
     },
     "output_type": "display_data"
    }
   ],
   "source": [
    "# Confusion Matrix\n",
    "cm = metrics.confusion_matrix(y_test, uy_pred)\n",
    "\n",
    "disp = ConfusionMatrixDisplay(confusion_matrix=cm, display_labels=classes)\n",
    "disp = disp.plot()\n",
    "\n",
    "plt.savefig('confusion_matricies/c4_f113_km' + str(NUMBER_OF_CLUSTERS) + '+sw24_12+cae.png') # number of classes, features, method\n",
    "plt.show()"
   ]
  },
  {
   "cell_type": "code",
   "execution_count": null,
   "metadata": {},
   "outputs": [],
   "source": []
  }
 ],
 "metadata": {
  "kernelspec": {
   "display_name": "Python 3",
   "language": "python",
   "name": "python3"
  },
  "language_info": {
   "codemirror_mode": {
    "name": "ipython",
    "version": 3
   },
   "file_extension": ".py",
   "mimetype": "text/x-python",
   "name": "python",
   "nbconvert_exporter": "python",
   "pygments_lexer": "ipython3",
   "version": "3.8.5"
  }
 },
 "nbformat": 4,
 "nbformat_minor": 4
}
